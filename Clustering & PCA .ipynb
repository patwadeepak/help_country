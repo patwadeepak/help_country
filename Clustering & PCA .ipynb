{
 "cells": [
  {
   "cell_type": "code",
   "execution_count": 1,
   "metadata": {},
   "outputs": [],
   "source": [
    "import warnings\n",
    "warnings.filterwarnings('ignore')"
   ]
  },
  {
   "cell_type": "code",
   "execution_count": 2,
   "metadata": {},
   "outputs": [],
   "source": [
    "import numpy as np\n",
    "import pandas as pd"
   ]
  },
  {
   "cell_type": "code",
   "execution_count": 3,
   "metadata": {},
   "outputs": [],
   "source": [
    "import matplotlib.pyplot as plt\n",
    "import seaborn as sns\n",
    "%matplotlib inline"
   ]
  },
  {
   "cell_type": "code",
   "execution_count": 4,
   "metadata": {},
   "outputs": [],
   "source": [
    "df = pd.read_csv('Country-data.csv')"
   ]
  },
  {
   "cell_type": "code",
   "execution_count": 5,
   "metadata": {},
   "outputs": [
    {
     "data": {
      "text/html": [
       "<div>\n",
       "<style scoped>\n",
       "    .dataframe tbody tr th:only-of-type {\n",
       "        vertical-align: middle;\n",
       "    }\n",
       "\n",
       "    .dataframe tbody tr th {\n",
       "        vertical-align: top;\n",
       "    }\n",
       "\n",
       "    .dataframe thead th {\n",
       "        text-align: right;\n",
       "    }\n",
       "</style>\n",
       "<table border=\"1\" class=\"dataframe\">\n",
       "  <thead>\n",
       "    <tr style=\"text-align: right;\">\n",
       "      <th></th>\n",
       "      <th>country</th>\n",
       "      <th>child_mort</th>\n",
       "      <th>exports</th>\n",
       "      <th>health</th>\n",
       "      <th>imports</th>\n",
       "      <th>income</th>\n",
       "      <th>inflation</th>\n",
       "      <th>life_expec</th>\n",
       "      <th>total_fer</th>\n",
       "      <th>gdpp</th>\n",
       "    </tr>\n",
       "  </thead>\n",
       "  <tbody>\n",
       "    <tr>\n",
       "      <th>0</th>\n",
       "      <td>Afghanistan</td>\n",
       "      <td>90.2</td>\n",
       "      <td>10.0</td>\n",
       "      <td>7.58</td>\n",
       "      <td>44.9</td>\n",
       "      <td>1610</td>\n",
       "      <td>9.44</td>\n",
       "      <td>56.2</td>\n",
       "      <td>5.82</td>\n",
       "      <td>553</td>\n",
       "    </tr>\n",
       "    <tr>\n",
       "      <th>1</th>\n",
       "      <td>Albania</td>\n",
       "      <td>16.6</td>\n",
       "      <td>28.0</td>\n",
       "      <td>6.55</td>\n",
       "      <td>48.6</td>\n",
       "      <td>9930</td>\n",
       "      <td>4.49</td>\n",
       "      <td>76.3</td>\n",
       "      <td>1.65</td>\n",
       "      <td>4090</td>\n",
       "    </tr>\n",
       "    <tr>\n",
       "      <th>2</th>\n",
       "      <td>Algeria</td>\n",
       "      <td>27.3</td>\n",
       "      <td>38.4</td>\n",
       "      <td>4.17</td>\n",
       "      <td>31.4</td>\n",
       "      <td>12900</td>\n",
       "      <td>16.10</td>\n",
       "      <td>76.5</td>\n",
       "      <td>2.89</td>\n",
       "      <td>4460</td>\n",
       "    </tr>\n",
       "    <tr>\n",
       "      <th>3</th>\n",
       "      <td>Angola</td>\n",
       "      <td>119.0</td>\n",
       "      <td>62.3</td>\n",
       "      <td>2.85</td>\n",
       "      <td>42.9</td>\n",
       "      <td>5900</td>\n",
       "      <td>22.40</td>\n",
       "      <td>60.1</td>\n",
       "      <td>6.16</td>\n",
       "      <td>3530</td>\n",
       "    </tr>\n",
       "    <tr>\n",
       "      <th>4</th>\n",
       "      <td>Antigua and Barbuda</td>\n",
       "      <td>10.3</td>\n",
       "      <td>45.5</td>\n",
       "      <td>6.03</td>\n",
       "      <td>58.9</td>\n",
       "      <td>19100</td>\n",
       "      <td>1.44</td>\n",
       "      <td>76.8</td>\n",
       "      <td>2.13</td>\n",
       "      <td>12200</td>\n",
       "    </tr>\n",
       "  </tbody>\n",
       "</table>\n",
       "</div>"
      ],
      "text/plain": [
       "               country  child_mort  exports  health  imports  income  \\\n",
       "0          Afghanistan        90.2     10.0    7.58     44.9    1610   \n",
       "1              Albania        16.6     28.0    6.55     48.6    9930   \n",
       "2              Algeria        27.3     38.4    4.17     31.4   12900   \n",
       "3               Angola       119.0     62.3    2.85     42.9    5900   \n",
       "4  Antigua and Barbuda        10.3     45.5    6.03     58.9   19100   \n",
       "\n",
       "   inflation  life_expec  total_fer   gdpp  \n",
       "0       9.44        56.2       5.82    553  \n",
       "1       4.49        76.3       1.65   4090  \n",
       "2      16.10        76.5       2.89   4460  \n",
       "3      22.40        60.1       6.16   3530  \n",
       "4       1.44        76.8       2.13  12200  "
      ]
     },
     "execution_count": 5,
     "metadata": {},
     "output_type": "execute_result"
    }
   ],
   "source": [
    "df.head()"
   ]
  },
  {
   "cell_type": "markdown",
   "metadata": {},
   "source": [
    "# First we do some EDA"
   ]
  },
  {
   "cell_type": "code",
   "execution_count": 6,
   "metadata": {},
   "outputs": [
    {
     "name": "stdout",
     "output_type": "stream",
     "text": [
      "<class 'pandas.core.frame.DataFrame'>\n",
      "RangeIndex: 167 entries, 0 to 166\n",
      "Data columns (total 10 columns):\n",
      "country       167 non-null object\n",
      "child_mort    167 non-null float64\n",
      "exports       167 non-null float64\n",
      "health        167 non-null float64\n",
      "imports       167 non-null float64\n",
      "income        167 non-null int64\n",
      "inflation     167 non-null float64\n",
      "life_expec    167 non-null float64\n",
      "total_fer     167 non-null float64\n",
      "gdpp          167 non-null int64\n",
      "dtypes: float64(7), int64(2), object(1)\n",
      "memory usage: 13.1+ KB\n"
     ]
    }
   ],
   "source": [
    "df.info()"
   ]
  },
  {
   "cell_type": "markdown",
   "metadata": {},
   "source": [
    "There are 167 rows and 10 columns"
   ]
  },
  {
   "cell_type": "code",
   "execution_count": 7,
   "metadata": {},
   "outputs": [
    {
     "data": {
      "text/html": [
       "<div>\n",
       "<style scoped>\n",
       "    .dataframe tbody tr th:only-of-type {\n",
       "        vertical-align: middle;\n",
       "    }\n",
       "\n",
       "    .dataframe tbody tr th {\n",
       "        vertical-align: top;\n",
       "    }\n",
       "\n",
       "    .dataframe thead th {\n",
       "        text-align: right;\n",
       "    }\n",
       "</style>\n",
       "<table border=\"1\" class=\"dataframe\">\n",
       "  <thead>\n",
       "    <tr style=\"text-align: right;\">\n",
       "      <th></th>\n",
       "      <th>child_mort</th>\n",
       "      <th>exports</th>\n",
       "      <th>health</th>\n",
       "      <th>imports</th>\n",
       "      <th>income</th>\n",
       "      <th>inflation</th>\n",
       "      <th>life_expec</th>\n",
       "      <th>total_fer</th>\n",
       "      <th>gdpp</th>\n",
       "    </tr>\n",
       "  </thead>\n",
       "  <tbody>\n",
       "    <tr>\n",
       "      <th>count</th>\n",
       "      <td>167.000000</td>\n",
       "      <td>167.000000</td>\n",
       "      <td>167.000000</td>\n",
       "      <td>167.000000</td>\n",
       "      <td>167.000000</td>\n",
       "      <td>167.000000</td>\n",
       "      <td>167.000000</td>\n",
       "      <td>167.000000</td>\n",
       "      <td>167.000000</td>\n",
       "    </tr>\n",
       "    <tr>\n",
       "      <th>mean</th>\n",
       "      <td>38.270060</td>\n",
       "      <td>41.108976</td>\n",
       "      <td>6.815689</td>\n",
       "      <td>46.890215</td>\n",
       "      <td>17144.688623</td>\n",
       "      <td>7.781832</td>\n",
       "      <td>70.555689</td>\n",
       "      <td>2.947964</td>\n",
       "      <td>12964.155689</td>\n",
       "    </tr>\n",
       "    <tr>\n",
       "      <th>std</th>\n",
       "      <td>40.328931</td>\n",
       "      <td>27.412010</td>\n",
       "      <td>2.746837</td>\n",
       "      <td>24.209589</td>\n",
       "      <td>19278.067698</td>\n",
       "      <td>10.570704</td>\n",
       "      <td>8.893172</td>\n",
       "      <td>1.513848</td>\n",
       "      <td>18328.704809</td>\n",
       "    </tr>\n",
       "    <tr>\n",
       "      <th>min</th>\n",
       "      <td>2.600000</td>\n",
       "      <td>0.109000</td>\n",
       "      <td>1.810000</td>\n",
       "      <td>0.065900</td>\n",
       "      <td>609.000000</td>\n",
       "      <td>-4.210000</td>\n",
       "      <td>32.100000</td>\n",
       "      <td>1.150000</td>\n",
       "      <td>231.000000</td>\n",
       "    </tr>\n",
       "    <tr>\n",
       "      <th>25%</th>\n",
       "      <td>8.250000</td>\n",
       "      <td>23.800000</td>\n",
       "      <td>4.920000</td>\n",
       "      <td>30.200000</td>\n",
       "      <td>3355.000000</td>\n",
       "      <td>1.810000</td>\n",
       "      <td>65.300000</td>\n",
       "      <td>1.795000</td>\n",
       "      <td>1330.000000</td>\n",
       "    </tr>\n",
       "    <tr>\n",
       "      <th>50%</th>\n",
       "      <td>19.300000</td>\n",
       "      <td>35.000000</td>\n",
       "      <td>6.320000</td>\n",
       "      <td>43.300000</td>\n",
       "      <td>9960.000000</td>\n",
       "      <td>5.390000</td>\n",
       "      <td>73.100000</td>\n",
       "      <td>2.410000</td>\n",
       "      <td>4660.000000</td>\n",
       "    </tr>\n",
       "    <tr>\n",
       "      <th>75%</th>\n",
       "      <td>62.100000</td>\n",
       "      <td>51.350000</td>\n",
       "      <td>8.600000</td>\n",
       "      <td>58.750000</td>\n",
       "      <td>22800.000000</td>\n",
       "      <td>10.750000</td>\n",
       "      <td>76.800000</td>\n",
       "      <td>3.880000</td>\n",
       "      <td>14050.000000</td>\n",
       "    </tr>\n",
       "    <tr>\n",
       "      <th>max</th>\n",
       "      <td>208.000000</td>\n",
       "      <td>200.000000</td>\n",
       "      <td>17.900000</td>\n",
       "      <td>174.000000</td>\n",
       "      <td>125000.000000</td>\n",
       "      <td>104.000000</td>\n",
       "      <td>82.800000</td>\n",
       "      <td>7.490000</td>\n",
       "      <td>105000.000000</td>\n",
       "    </tr>\n",
       "  </tbody>\n",
       "</table>\n",
       "</div>"
      ],
      "text/plain": [
       "       child_mort     exports      health     imports         income  \\\n",
       "count  167.000000  167.000000  167.000000  167.000000     167.000000   \n",
       "mean    38.270060   41.108976    6.815689   46.890215   17144.688623   \n",
       "std     40.328931   27.412010    2.746837   24.209589   19278.067698   \n",
       "min      2.600000    0.109000    1.810000    0.065900     609.000000   \n",
       "25%      8.250000   23.800000    4.920000   30.200000    3355.000000   \n",
       "50%     19.300000   35.000000    6.320000   43.300000    9960.000000   \n",
       "75%     62.100000   51.350000    8.600000   58.750000   22800.000000   \n",
       "max    208.000000  200.000000   17.900000  174.000000  125000.000000   \n",
       "\n",
       "        inflation  life_expec   total_fer           gdpp  \n",
       "count  167.000000  167.000000  167.000000     167.000000  \n",
       "mean     7.781832   70.555689    2.947964   12964.155689  \n",
       "std     10.570704    8.893172    1.513848   18328.704809  \n",
       "min     -4.210000   32.100000    1.150000     231.000000  \n",
       "25%      1.810000   65.300000    1.795000    1330.000000  \n",
       "50%      5.390000   73.100000    2.410000    4660.000000  \n",
       "75%     10.750000   76.800000    3.880000   14050.000000  \n",
       "max    104.000000   82.800000    7.490000  105000.000000  "
      ]
     },
     "execution_count": 7,
     "metadata": {},
     "output_type": "execute_result"
    }
   ],
   "source": [
    "df.describe()"
   ]
  },
  {
   "cell_type": "markdown",
   "metadata": {},
   "source": [
    "Almost all columns seems to have a skewed distribution and possible outliers that could affect results adversely."
   ]
  },
  {
   "cell_type": "code",
   "execution_count": 8,
   "metadata": {},
   "outputs": [
    {
     "data": {
      "text/plain": [
       "country       0\n",
       "child_mort    0\n",
       "exports       0\n",
       "health        0\n",
       "imports       0\n",
       "income        0\n",
       "inflation     0\n",
       "life_expec    0\n",
       "total_fer     0\n",
       "gdpp          0\n",
       "dtype: int64"
      ]
     },
     "execution_count": 8,
     "metadata": {},
     "output_type": "execute_result"
    }
   ],
   "source": [
    "df.isnull().sum()"
   ]
  },
  {
   "cell_type": "code",
   "execution_count": 9,
   "metadata": {},
   "outputs": [
    {
     "data": {
      "text/plain": [
       "167"
      ]
     },
     "execution_count": 9,
     "metadata": {},
     "output_type": "execute_result"
    }
   ],
   "source": [
    "len(df.drop_duplicates())"
   ]
  },
  {
   "cell_type": "markdown",
   "metadata": {},
   "source": [
    "So the data is super clean and there seems no need for any cleaning"
   ]
  },
  {
   "cell_type": "markdown",
   "metadata": {},
   "source": [
    "## Univariate Analysis"
   ]
  },
  {
   "cell_type": "markdown",
   "metadata": {},
   "source": [
    "### Child Mortality"
   ]
  },
  {
   "cell_type": "code",
   "execution_count": 10,
   "metadata": {},
   "outputs": [
    {
     "data": {
      "text/plain": [
       "<matplotlib.axes._subplots.AxesSubplot at 0x1655f41b7f0>"
      ]
     },
     "execution_count": 10,
     "metadata": {},
     "output_type": "execute_result"
    },
    {
     "data": {
      "image/png": "[encoded data removed]",
      "text/plain": [
       "<Figure size 720x432 with 1 Axes>"
      ]
     },
     "metadata": {},
     "output_type": "display_data"
    }
   ],
   "source": [
    "sns.set(rc={'figure.figsize':(10,6)})\n",
    "plt.xticks(range(0,220,10))\n",
    "sns.distplot(df['child_mort'],bins=25, kde=False)"
   ]
  },
  {
   "cell_type": "markdown",
   "metadata": {},
   "source": [
    "This feature is highly skewed. Somec countries have very high child mortality."
   ]
  },
  {
   "cell_type": "markdown",
   "metadata": {},
   "source": [
    "### Exports Imports\n",
    "We will look into exports and imports together as this gives Trade Balance.\n",
    "<br>Trade Balance = Exports - Imports<br>\n",
    "Higher is better for the country."
   ]
  },
  {
   "cell_type": "code",
   "execution_count": 11,
   "metadata": {},
   "outputs": [],
   "source": [
    "# Lets us do some feature engineering on the fly\n",
    "df['trade_bal'] = df['exports'] - df['imports']"
   ]
  },
  {
   "cell_type": "code",
   "execution_count": 12,
   "metadata": {},
   "outputs": [
    {
     "data": {
      "text/plain": [
       "<matplotlib.axes._subplots.AxesSubplot at 0x1655f522748>"
      ]
     },
     "execution_count": 12,
     "metadata": {},
     "output_type": "execute_result"
    },
    {
     "data": {
      "image/png": "[encoded data removed]",
      "text/plain": [
       "<Figure size 720x432 with 1 Axes>"
      ]
     },
     "metadata": {},
     "output_type": "display_data"
    }
   ],
   "source": [
    "sns.distplot(df['trade_bal'], kde=False)"
   ]
  },
  {
   "cell_type": "markdown",
   "metadata": {},
   "source": [
    "Trade balance has a right tail but still very close to normal distribution"
   ]
  },
  {
   "cell_type": "markdown",
   "metadata": {},
   "source": [
    "### Health Spending as %age of Total GDP"
   ]
  },
  {
   "cell_type": "code",
   "execution_count": 13,
   "metadata": {},
   "outputs": [
    {
     "data": {
      "text/plain": [
       "<matplotlib.axes._subplots.AxesSubplot at 0x1655f5945f8>"
      ]
     },
     "execution_count": 13,
     "metadata": {},
     "output_type": "execute_result"
    },
    {
     "data": {
      "image/png": "[encoded data removed]",
      "text/plain": [
       "<Figure size 720x432 with 1 Axes>"
      ]
     },
     "metadata": {},
     "output_type": "display_data"
    }
   ],
   "source": [
    "sns.distplot(df['health'], kde=False)"
   ]
  },
  {
   "cell_type": "markdown",
   "metadata": {},
   "source": [
    "Some outliers here too"
   ]
  },
  {
   "cell_type": "markdown",
   "metadata": {},
   "source": [
    "### Income\n",
    "Net income per person"
   ]
  },
  {
   "cell_type": "code",
   "execution_count": 14,
   "metadata": {},
   "outputs": [
    {
     "data": {
      "text/plain": [
       "<matplotlib.axes._subplots.AxesSubplot at 0x1656079c978>"
      ]
     },
     "execution_count": 14,
     "metadata": {},
     "output_type": "execute_result"
    },
    {
     "data": {
      "image/png": "[encoded data removed]",
      "text/plain": [
       "<Figure size 720x432 with 1 Axes>"
      ]
     },
     "metadata": {},
     "output_type": "display_data"
    }
   ],
   "source": [
    "sns.distplot(df['income'], kde=False)"
   ]
  },
  {
   "cell_type": "markdown",
   "metadata": {},
   "source": [
    "As expected, the most skewed feature is income always."
   ]
  },
  {
   "cell_type": "markdown",
   "metadata": {},
   "source": [
    "### Inflation"
   ]
  },
  {
   "cell_type": "code",
   "execution_count": 15,
   "metadata": {},
   "outputs": [
    {
     "data": {
      "text/plain": [
       "<matplotlib.axes._subplots.AxesSubplot at 0x165606a2cc0>"
      ]
     },
     "execution_count": 15,
     "metadata": {},
     "output_type": "execute_result"
    },
    {
     "data": {
      "image/png": "[encoded data removed]",
      "text/plain": [
       "<Figure size 720x432 with 1 Axes>"
      ]
     },
     "metadata": {},
     "output_type": "display_data"
    }
   ],
   "source": [
    "sns.distplot(df['inflation'], kde=False)"
   ]
  },
  {
   "cell_type": "markdown",
   "metadata": {},
   "source": [
    "Here we have got some very high inflation values. Big Outliers."
   ]
  },
  {
   "cell_type": "markdown",
   "metadata": {},
   "source": [
    "### Life Expectancy"
   ]
  },
  {
   "cell_type": "code",
   "execution_count": 16,
   "metadata": {},
   "outputs": [
    {
     "data": {
      "text/plain": [
       "<matplotlib.axes._subplots.AxesSubplot at 0x1656071b320>"
      ]
     },
     "execution_count": 16,
     "metadata": {},
     "output_type": "execute_result"
    },
    {
     "data": {
      "image/png": "[encoded data removed]",
      "text/plain": [
       "<Figure size 720x432 with 1 Axes>"
      ]
     },
     "metadata": {},
     "output_type": "display_data"
    }
   ],
   "source": [
    "sns.distplot(df['life_expec'], kde=False, bins =25)"
   ]
  },
  {
   "cell_type": "markdown",
   "metadata": {},
   "source": [
    "Some countries have very low life expectancy."
   ]
  },
  {
   "cell_type": "markdown",
   "metadata": {},
   "source": [
    "### Total Fertility"
   ]
  },
  {
   "cell_type": "code",
   "execution_count": 17,
   "metadata": {},
   "outputs": [
    {
     "data": {
      "text/plain": [
       "<matplotlib.axes._subplots.AxesSubplot at 0x16560658358>"
      ]
     },
     "execution_count": 17,
     "metadata": {},
     "output_type": "execute_result"
    },
    {
     "data": {
      "image/png": "[encoded data removed]",
      "text/plain": [
       "<Figure size 720x432 with 1 Axes>"
      ]
     },
     "metadata": {},
     "output_type": "display_data"
    }
   ],
   "source": [
    "sns.distplot(df['total_fer'], kde=False, bins =10)"
   ]
  },
  {
   "cell_type": "markdown",
   "metadata": {},
   "source": [
    "### GDP per capita"
   ]
  },
  {
   "cell_type": "code",
   "execution_count": 18,
   "metadata": {},
   "outputs": [
    {
     "data": {
      "text/plain": [
       "<matplotlib.axes._subplots.AxesSubplot at 0x16560837b38>"
      ]
     },
     "execution_count": 18,
     "metadata": {},
     "output_type": "execute_result"
    },
    {
     "data": {
      "image/png": "[encoded data removed]",
      "text/plain": [
       "<Figure size 720x432 with 1 Axes>"
      ]
     },
     "metadata": {},
     "output_type": "display_data"
    }
   ],
   "source": [
    "sns.distplot(df['gdpp'], kde=False)"
   ]
  },
  {
   "cell_type": "markdown",
   "metadata": {},
   "source": [
    "This is highly skewed and some countires have very high GDP per Capita"
   ]
  },
  {
   "cell_type": "markdown",
   "metadata": {},
   "source": [
    "# Scaling the data"
   ]
  },
  {
   "cell_type": "code",
   "execution_count": 19,
   "metadata": {},
   "outputs": [],
   "source": [
    "from sklearn.preprocessing import StandardScaler"
   ]
  },
  {
   "cell_type": "code",
   "execution_count": 20,
   "metadata": {},
   "outputs": [],
   "source": [
    "scaler = StandardScaler()"
   ]
  },
  {
   "cell_type": "code",
   "execution_count": 21,
   "metadata": {},
   "outputs": [],
   "source": [
    "# Saving a current dataset state to df1 before scaling\n",
    "df1 = df.copy()"
   ]
  },
  {
   "cell_type": "code",
   "execution_count": 22,
   "metadata": {},
   "outputs": [],
   "source": [
    "names = df.pop('country')"
   ]
  },
  {
   "cell_type": "code",
   "execution_count": 23,
   "metadata": {},
   "outputs": [],
   "source": [
    "# Dropping exports and imports as We created Trade Balance\n",
    "df.drop(labels=['exports', 'imports'], axis=1, inplace=True)"
   ]
  },
  {
   "cell_type": "code",
   "execution_count": 24,
   "metadata": {},
   "outputs": [
    {
     "data": {
      "text/html": [
       "<div>\n",
       "<style scoped>\n",
       "    .dataframe tbody tr th:only-of-type {\n",
       "        vertical-align: middle;\n",
       "    }\n",
       "\n",
       "    .dataframe tbody tr th {\n",
       "        vertical-align: top;\n",
       "    }\n",
       "\n",
       "    .dataframe thead th {\n",
       "        text-align: right;\n",
       "    }\n",
       "</style>\n",
       "<table border=\"1\" class=\"dataframe\">\n",
       "  <thead>\n",
       "    <tr style=\"text-align: right;\">\n",
       "      <th></th>\n",
       "      <th>child_mort</th>\n",
       "      <th>health</th>\n",
       "      <th>income</th>\n",
       "      <th>inflation</th>\n",
       "      <th>life_expec</th>\n",
       "      <th>total_fer</th>\n",
       "      <th>gdpp</th>\n",
       "      <th>trade_bal</th>\n",
       "    </tr>\n",
       "  </thead>\n",
       "  <tbody>\n",
       "    <tr>\n",
       "      <th>0</th>\n",
       "      <td>90.2</td>\n",
       "      <td>7.58</td>\n",
       "      <td>1610</td>\n",
       "      <td>9.44</td>\n",
       "      <td>56.2</td>\n",
       "      <td>5.82</td>\n",
       "      <td>553</td>\n",
       "      <td>-34.9</td>\n",
       "    </tr>\n",
       "    <tr>\n",
       "      <th>1</th>\n",
       "      <td>16.6</td>\n",
       "      <td>6.55</td>\n",
       "      <td>9930</td>\n",
       "      <td>4.49</td>\n",
       "      <td>76.3</td>\n",
       "      <td>1.65</td>\n",
       "      <td>4090</td>\n",
       "      <td>-20.6</td>\n",
       "    </tr>\n",
       "    <tr>\n",
       "      <th>2</th>\n",
       "      <td>27.3</td>\n",
       "      <td>4.17</td>\n",
       "      <td>12900</td>\n",
       "      <td>16.10</td>\n",
       "      <td>76.5</td>\n",
       "      <td>2.89</td>\n",
       "      <td>4460</td>\n",
       "      <td>7.0</td>\n",
       "    </tr>\n",
       "    <tr>\n",
       "      <th>3</th>\n",
       "      <td>119.0</td>\n",
       "      <td>2.85</td>\n",
       "      <td>5900</td>\n",
       "      <td>22.40</td>\n",
       "      <td>60.1</td>\n",
       "      <td>6.16</td>\n",
       "      <td>3530</td>\n",
       "      <td>19.4</td>\n",
       "    </tr>\n",
       "    <tr>\n",
       "      <th>4</th>\n",
       "      <td>10.3</td>\n",
       "      <td>6.03</td>\n",
       "      <td>19100</td>\n",
       "      <td>1.44</td>\n",
       "      <td>76.8</td>\n",
       "      <td>2.13</td>\n",
       "      <td>12200</td>\n",
       "      <td>-13.4</td>\n",
       "    </tr>\n",
       "  </tbody>\n",
       "</table>\n",
       "</div>"
      ],
      "text/plain": [
       "   child_mort  health  income  inflation  life_expec  total_fer   gdpp  \\\n",
       "0        90.2    7.58    1610       9.44        56.2       5.82    553   \n",
       "1        16.6    6.55    9930       4.49        76.3       1.65   4090   \n",
       "2        27.3    4.17   12900      16.10        76.5       2.89   4460   \n",
       "3       119.0    2.85    5900      22.40        60.1       6.16   3530   \n",
       "4        10.3    6.03   19100       1.44        76.8       2.13  12200   \n",
       "\n",
       "   trade_bal  \n",
       "0      -34.9  \n",
       "1      -20.6  \n",
       "2        7.0  \n",
       "3       19.4  \n",
       "4      -13.4  "
      ]
     },
     "execution_count": 24,
     "metadata": {},
     "output_type": "execute_result"
    }
   ],
   "source": [
    "df.head()"
   ]
  },
  {
   "cell_type": "code",
   "execution_count": 25,
   "metadata": {},
   "outputs": [],
   "source": [
    "df_norm = scaler.fit_transform(df)"
   ]
  },
  {
   "cell_type": "code",
   "execution_count": 26,
   "metadata": {},
   "outputs": [
    {
     "data": {
      "text/html": [
       "<div>\n",
       "<style scoped>\n",
       "    .dataframe tbody tr th:only-of-type {\n",
       "        vertical-align: middle;\n",
       "    }\n",
       "\n",
       "    .dataframe tbody tr th {\n",
       "        vertical-align: top;\n",
       "    }\n",
       "\n",
       "    .dataframe thead th {\n",
       "        text-align: right;\n",
       "    }\n",
       "</style>\n",
       "<table border=\"1\" class=\"dataframe\">\n",
       "  <thead>\n",
       "    <tr style=\"text-align: right;\">\n",
       "      <th></th>\n",
       "      <th>0</th>\n",
       "      <th>1</th>\n",
       "      <th>2</th>\n",
       "      <th>3</th>\n",
       "      <th>4</th>\n",
       "      <th>5</th>\n",
       "      <th>6</th>\n",
       "      <th>7</th>\n",
       "    </tr>\n",
       "  </thead>\n",
       "  <tbody>\n",
       "    <tr>\n",
       "      <th>count</th>\n",
       "      <td>1.670000e+02</td>\n",
       "      <td>1.670000e+02</td>\n",
       "      <td>1.670000e+02</td>\n",
       "      <td>1.670000e+02</td>\n",
       "      <td>1.670000e+02</td>\n",
       "      <td>1.670000e+02</td>\n",
       "      <td>1.670000e+02</td>\n",
       "      <td>1.670000e+02</td>\n",
       "    </tr>\n",
       "    <tr>\n",
       "      <th>mean</th>\n",
       "      <td>-2.659217e-17</td>\n",
       "      <td>5.218713e-16</td>\n",
       "      <td>-7.512288e-17</td>\n",
       "      <td>8.376533e-17</td>\n",
       "      <td>3.616535e-16</td>\n",
       "      <td>3.124580e-16</td>\n",
       "      <td>2.127373e-17</td>\n",
       "      <td>3.456982e-17</td>\n",
       "    </tr>\n",
       "    <tr>\n",
       "      <th>std</th>\n",
       "      <td>1.003008e+00</td>\n",
       "      <td>1.003008e+00</td>\n",
       "      <td>1.003008e+00</td>\n",
       "      <td>1.003008e+00</td>\n",
       "      <td>1.003008e+00</td>\n",
       "      <td>1.003008e+00</td>\n",
       "      <td>1.003008e+00</td>\n",
       "      <td>1.003008e+00</td>\n",
       "    </tr>\n",
       "    <tr>\n",
       "      <th>min</th>\n",
       "      <td>-8.871383e-01</td>\n",
       "      <td>-1.827827e+00</td>\n",
       "      <td>-8.603259e-01</td>\n",
       "      <td>-1.137852e+00</td>\n",
       "      <td>-4.337186e+00</td>\n",
       "      <td>-1.191250e+00</td>\n",
       "      <td>-6.968005e-01</td>\n",
       "      <td>-3.585701e+00</td>\n",
       "    </tr>\n",
       "    <tr>\n",
       "      <th>25%</th>\n",
       "      <td>-7.466190e-01</td>\n",
       "      <td>-6.922106e-01</td>\n",
       "      <td>-7.174558e-01</td>\n",
       "      <td>-5.666409e-01</td>\n",
       "      <td>-5.927576e-01</td>\n",
       "      <td>-7.639023e-01</td>\n",
       "      <td>-6.366596e-01</td>\n",
       "      <td>-4.801900e-01</td>\n",
       "    </tr>\n",
       "    <tr>\n",
       "      <th>50%</th>\n",
       "      <td>-4.717981e-01</td>\n",
       "      <td>-1.810007e-01</td>\n",
       "      <td>-3.738080e-01</td>\n",
       "      <td>-2.269504e-01</td>\n",
       "      <td>2.869576e-01</td>\n",
       "      <td>-3.564309e-01</td>\n",
       "      <td>-4.544309e-01</td>\n",
       "      <td>5.195650e-02</td>\n",
       "    </tr>\n",
       "    <tr>\n",
       "      <th>75%</th>\n",
       "      <td>5.926666e-01</td>\n",
       "      <td>6.515412e-01</td>\n",
       "      <td>2.942370e-01</td>\n",
       "      <td>2.816364e-01</td>\n",
       "      <td>7.042584e-01</td>\n",
       "      <td>6.175252e-01</td>\n",
       "      <td>5.942100e-02</td>\n",
       "      <td>5.099731e-01</td>\n",
       "    </tr>\n",
       "    <tr>\n",
       "      <th>max</th>\n",
       "      <td>4.221297e+00</td>\n",
       "      <td>4.047436e+00</td>\n",
       "      <td>5.611542e+00</td>\n",
       "      <td>9.129718e+00</td>\n",
       "      <td>1.380962e+00</td>\n",
       "      <td>3.009349e+00</td>\n",
       "      <td>5.036507e+00</td>\n",
       "      <td>2.392342e+00</td>\n",
       "    </tr>\n",
       "  </tbody>\n",
       "</table>\n",
       "</div>"
      ],
      "text/plain": [
       "                  0             1             2             3             4  \\\n",
       "count  1.670000e+02  1.670000e+02  1.670000e+02  1.670000e+02  1.670000e+02   \n",
       "mean  -2.659217e-17  5.218713e-16 -7.512288e-17  8.376533e-17  3.616535e-16   \n",
       "std    1.003008e+00  1.003008e+00  1.003008e+00  1.003008e+00  1.003008e+00   \n",
       "min   -8.871383e-01 -1.827827e+00 -8.603259e-01 -1.137852e+00 -4.337186e+00   \n",
       "25%   -7.466190e-01 -6.922106e-01 -7.174558e-01 -5.666409e-01 -5.927576e-01   \n",
       "50%   -4.717981e-01 -1.810007e-01 -3.738080e-01 -2.269504e-01  2.869576e-01   \n",
       "75%    5.926666e-01  6.515412e-01  2.942370e-01  2.816364e-01  7.042584e-01   \n",
       "max    4.221297e+00  4.047436e+00  5.611542e+00  9.129718e+00  1.380962e+00   \n",
       "\n",
       "                  5             6             7  \n",
       "count  1.670000e+02  1.670000e+02  1.670000e+02  \n",
       "mean   3.124580e-16  2.127373e-17  3.456982e-17  \n",
       "std    1.003008e+00  1.003008e+00  1.003008e+00  \n",
       "min   -1.191250e+00 -6.968005e-01 -3.585701e+00  \n",
       "25%   -7.639023e-01 -6.366596e-01 -4.801900e-01  \n",
       "50%   -3.564309e-01 -4.544309e-01  5.195650e-02  \n",
       "75%    6.175252e-01  5.942100e-02  5.099731e-01  \n",
       "max    3.009349e+00  5.036507e+00  2.392342e+00  "
      ]
     },
     "execution_count": 26,
     "metadata": {},
     "output_type": "execute_result"
    }
   ],
   "source": [
    "pd.DataFrame(df_norm).describe()"
   ]
  },
  {
   "cell_type": "markdown",
   "metadata": {},
   "source": [
    "We can see that our data has been standardised as mean for every column is almost zero here"
   ]
  },
  {
   "cell_type": "markdown",
   "metadata": {},
   "source": [
    "# Principal Component Analysis"
   ]
  },
  {
   "cell_type": "code",
   "execution_count": 27,
   "metadata": {},
   "outputs": [],
   "source": [
    "from sklearn.decomposition import PCA"
   ]
  },
  {
   "cell_type": "code",
   "execution_count": 28,
   "metadata": {},
   "outputs": [],
   "source": [
    "pca = PCA(svd_solver='randomized', random_state=101)"
   ]
  },
  {
   "cell_type": "code",
   "execution_count": 29,
   "metadata": {},
   "outputs": [
    {
     "data": {
      "text/plain": [
       "PCA(copy=True, iterated_power='auto', n_components=None, random_state=101,\n",
       "  svd_solver='randomized', tol=0.0, whiten=False)"
      ]
     },
     "execution_count": 29,
     "metadata": {},
     "output_type": "execute_result"
    }
   ],
   "source": [
    "pca.fit(df_norm)"
   ]
  },
  {
   "cell_type": "code",
   "execution_count": 30,
   "metadata": {},
   "outputs": [
    {
     "data": {
      "text/plain": [
       "array([[-4.30131249e-01,  1.39552158e-01,  4.14510468e-01,\n",
       "        -1.66659513e-01,  4.46513577e-01, -4.08976519e-01,\n",
       "         4.05993530e-01,  2.53872149e-01],\n",
       "       [ 1.16273611e-01, -5.46499903e-01,  2.36081128e-01,\n",
       "         4.94099875e-01, -3.57394830e-02,  1.43473072e-01,\n",
       "         8.17892463e-02,  5.99498127e-01],\n",
       "       [ 3.87050003e-01,  5.06474751e-01,  3.56366746e-01,\n",
       "         4.18397007e-02, -2.34357526e-01,  3.83936397e-01,\n",
       "         5.11160911e-01,  3.62176780e-02],\n",
       "       [-1.81126000e-01,  4.35422020e-01, -1.42298059e-01,\n",
       "         8.26997025e-01,  1.79999736e-01, -1.16639269e-01,\n",
       "        -8.24570132e-02, -1.43612103e-01],\n",
       "       [-6.54715481e-04, -4.52545376e-01,  3.62889533e-01,\n",
       "         1.94477025e-01, -2.05292390e-02, -7.11469525e-02,\n",
       "         2.76258324e-01, -7.37489069e-01],\n",
       "       [ 1.92930940e-01,  8.24844787e-02,  1.09659883e-01,\n",
       "         5.90198601e-02, -6.15679639e-01, -7.42456426e-01,\n",
       "        -4.02595359e-02,  9.24204352e-02],\n",
       "       [-6.82886213e-01,  8.04699117e-02,  3.47974001e-01,\n",
       "        -6.31428156e-03, -4.93442257e-01,  3.06618831e-01,\n",
       "        -2.61758289e-01,  6.88965051e-03],\n",
       "       [ 3.39553923e-01,  1.32957242e-01,  6.00333882e-01,\n",
       "        -3.27223438e-02,  2.98423914e-01, -2.86926245e-02,\n",
       "        -6.43380325e-01, -4.16610266e-02]])"
      ]
     },
     "execution_count": 30,
     "metadata": {},
     "output_type": "execute_result"
    }
   ],
   "source": [
    "pca.components_"
   ]
  },
  {
   "cell_type": "markdown",
   "metadata": {},
   "source": [
    "### Lets look at the Screeplot"
   ]
  },
  {
   "cell_type": "code",
   "execution_count": 31,
   "metadata": {},
   "outputs": [
    {
     "data": {
      "text/plain": [
       "array([0.50510474, 0.19337461, 0.12486591, 0.09065005, 0.03797833,\n",
       "       0.02837732, 0.01120457, 0.00844445])"
      ]
     },
     "execution_count": 31,
     "metadata": {},
     "output_type": "execute_result"
    }
   ],
   "source": [
    "pca.explained_variance_ratio_"
   ]
  },
  {
   "cell_type": "code",
   "execution_count": 32,
   "metadata": {},
   "outputs": [
    {
     "data": {
      "image/png": "[encoded data removed]",
      "text/plain": [
       "<Figure size 720x432 with 1 Axes>"
      ]
     },
     "metadata": {},
     "output_type": "display_data"
    }
   ],
   "source": [
    "plt.plot(np.cumsum(pca.explained_variance_ratio_))\n",
    "plt.xlabel('number of components')\n",
    "plt.ylabel('cumulative explained variance')\n",
    "plt.show()"
   ]
  },
  {
   "cell_type": "markdown",
   "metadata": {},
   "source": [
    "Looks like around 5 components are enough to explain 95% of the variance in the dataset."
   ]
  },
  {
   "cell_type": "markdown",
   "metadata": {},
   "source": [
    "#### Basis transformation - getting the data onto our PCs"
   ]
  },
  {
   "cell_type": "code",
   "execution_count": 33,
   "metadata": {},
   "outputs": [],
   "source": [
    "#Using incremental PCA for efficiency - saves a lot of time on larger datasets\n",
    "from sklearn.decomposition import IncrementalPCA\n",
    "pca_final = IncrementalPCA(n_components=5)"
   ]
  },
  {
   "cell_type": "code",
   "execution_count": 34,
   "metadata": {},
   "outputs": [
    {
     "data": {
      "text/plain": [
       "(167, 5)"
      ]
     },
     "execution_count": 34,
     "metadata": {},
     "output_type": "execute_result"
    }
   ],
   "source": [
    "df_train_pca = pca_final.fit_transform(df_norm)\n",
    "df_train_pca.shape"
   ]
  },
  {
   "cell_type": "code",
   "execution_count": 35,
   "metadata": {},
   "outputs": [],
   "source": [
    "corrmat = np.corrcoef(df_train_pca.transpose())"
   ]
  },
  {
   "cell_type": "code",
   "execution_count": 36,
   "metadata": {},
   "outputs": [
    {
     "data": {
      "text/plain": [
       "<matplotlib.axes._subplots.AxesSubplot at 0x16560fac8d0>"
      ]
     },
     "execution_count": 36,
     "metadata": {},
     "output_type": "execute_result"
    },
    {
     "data": {
      "image/png": "[encoded data removed]",
      "text/plain": [
       "<Figure size 1080x648 with 2 Axes>"
      ]
     },
     "metadata": {},
     "output_type": "display_data"
    }
   ],
   "source": [
    "#plotting the correlation matrix\n",
    "plt.figure(figsize = (15,9))\n",
    "sns.heatmap(corrmat,annot = True)"
   ]
  },
  {
   "cell_type": "code",
   "execution_count": 37,
   "metadata": {},
   "outputs": [
    {
     "name": "stdout",
     "output_type": "stream",
     "text": [
      "max corr: 0.005539252597995255 , min corr:  -0.05252902231850141\n"
     ]
    }
   ],
   "source": [
    "corrmat_nodiag = corrmat - np.diagflat(corrmat.diagonal())\n",
    "print(\"max corr:\",corrmat_nodiag.max(), \", min corr: \", corrmat_nodiag.min(),)"
   ]
  },
  {
   "cell_type": "code",
   "execution_count": 38,
   "metadata": {
    "scrolled": true
   },
   "outputs": [
    {
     "data": {
      "text/plain": [
       "array([[-3.04583977e+00, -7.66975737e-01,  1.06435676e+00,\n",
       "        -1.08373205e-01, -5.10394204e-01],\n",
       "       [ 3.59311437e-01, -9.10477134e-01, -1.17191803e+00,\n",
       "         1.68573290e-01, -3.27275327e-01],\n",
       "       [ 5.74669890e-02,  1.17442432e+00, -1.02626274e+00,\n",
       "         3.88394786e-01,  1.59619697e-02],\n",
       "       [-2.80742593e+00,  2.68295988e+00,  7.91108116e-01,\n",
       "        -2.92454742e-01,  4.31531310e-01],\n",
       "       [ 8.18286506e-01, -5.42576181e-01, -8.11119826e-01,\n",
       "        -2.94183843e-01, -3.76856402e-01],\n",
       "       [ 6.24464012e-01,  4.87950749e-01, -2.75224159e-01,\n",
       "         1.44278742e+00,  2.11740871e-01],\n",
       "       [-1.21366879e-01, -4.76738857e-01, -1.54613580e+00,\n",
       "         3.26419704e-02, -7.88718745e-01],\n",
       "       [ 2.86376859e+00, -3.14153853e-01,  9.91867948e-01,\n",
       "        -1.51675033e-01, -5.22815222e-01],\n",
       "       [ 3.03598723e+00, -6.78449774e-01,  1.21876957e+00,\n",
       "         1.97025147e-01,  1.23659729e-01],\n",
       "       [ 3.98314761e-01,  1.58864582e+00, -4.98833388e-01,\n",
       "         1.79717572e-01,  1.47680888e+00],\n",
       "       [ 1.32280892e+00, -7.39294398e-01,  9.13616613e-02,\n",
       "        -3.17723794e-01, -1.13783452e-01],\n",
       "       [ 1.73261461e+00,  1.27656815e+00, -2.55594503e-01,\n",
       "        -4.03329461e-01,  9.97861826e-02],\n",
       "       [-7.06180104e-01,  3.70318647e-01, -1.26499671e+00,\n",
       "        -4.48139380e-01, -3.26359881e-02],\n",
       "       [ 1.04169307e+00, -9.00743598e-01, -4.62845196e-01,\n",
       "        -5.86380116e-02,  1.44827222e-01],\n",
       "       [ 2.88112330e-01,  6.68528418e-02, -1.12200638e+00,\n",
       "         6.62669508e-01, -4.68459914e-01],\n",
       "       [ 2.73869972e+00, -6.22339709e-01,  1.17712514e+00,\n",
       "         2.28090320e-01,  4.22643511e-02],\n",
       "       [ 3.33016156e-02, -7.33783423e-03, -9.81264458e-01,\n",
       "        -5.80356489e-01,  4.11139027e-01],\n",
       "       [-2.60643497e+00,  2.20970791e-01,  4.03320673e-01,\n",
       "        -1.41927504e+00, -6.92709174e-02],\n",
       "       [-6.41960799e-01, -7.02841974e-01, -9.98972994e-01,\n",
       "        -1.18113396e-01, -7.40544993e-01],\n",
       "       [-5.48247259e-01,  7.02119406e-01, -7.33371646e-01,\n",
       "        -1.97559385e-01,  5.09397823e-01],\n",
       "       [ 8.54625192e-01, -2.05987781e+00, -5.34681005e-01,\n",
       "         7.82246214e-01,  4.21410598e-01],\n",
       "       [-1.00955774e+00, -2.96297763e-01,  4.89263957e-01,\n",
       "         6.54670300e-02,  5.06365164e-01],\n",
       "       [ 7.60650386e-01, -4.79881723e-01, -2.56156269e-01,\n",
       "         6.54840834e-01,  5.81862592e-01],\n",
       "       [ 3.05564631e+00,  3.30972236e+00,  4.73054380e-01,\n",
       "        -5.21555179e-01, -4.88508832e-01],\n",
       "       [ 8.07811515e-01, -4.98468341e-01, -9.16041889e-01,\n",
       "        -2.03838429e-01,  3.97997003e-01],\n",
       "       [-2.92562478e+00,  1.34862930e-01,  1.17932388e+00,\n",
       "        -6.55879110e-01,  3.80791566e-01],\n",
       "       [-2.92948296e+00, -1.25722865e+00,  1.90040948e+00,\n",
       "         7.76795326e-01,  2.28201126e-01],\n",
       "       [-8.36961689e-01, -1.77901759e-01, -6.69618188e-01,\n",
       "        -4.92832196e-01,  4.37827577e-01],\n",
       "       [-2.55105009e+00,  3.33975256e-01,  6.71223543e-01,\n",
       "        -1.28542372e+00,  4.59489988e-01],\n",
       "       [ 2.87934918e+00, -8.28355307e-01,  1.27396809e+00,\n",
       "         4.48063920e-01, -7.21152172e-02],\n",
       "       [-4.96704769e-01, -7.83919569e-01, -1.28984082e+00,\n",
       "        -6.60948323e-01, -8.79387336e-01],\n",
       "       [-3.76105138e+00,  3.91432051e-01,  1.06234182e+00,\n",
       "        -1.80862087e+00,  9.81297996e-02],\n",
       "       [-3.59341293e+00,  8.57543146e-01,  1.35425022e+00,\n",
       "        -1.31224438e+00,  1.87321144e-01],\n",
       "       [ 1.28657282e+00,  2.02555288e-02, -5.06803437e-01,\n",
       "         5.83962788e-01,  5.09162164e-01],\n",
       "       [ 5.13621272e-01,  2.72361458e-01, -1.35072989e+00,\n",
       "        -4.03035438e-02,  3.63461005e-01],\n",
       "       [ 6.28414068e-01, -4.87297818e-01, -7.49570016e-01,\n",
       "         1.61053295e-01,  5.19191761e-01],\n",
       "       [-2.31824421e+00, -5.67332164e-01, -6.16622890e-02,\n",
       "        -7.84865778e-01, -9.68155662e-01],\n",
       "       [-3.28588460e+00,  6.62315173e-01,  1.59508128e+00,\n",
       "         5.78822291e-01,  3.23885721e-01],\n",
       "       [-1.75308143e+00,  2.74538567e+00, -1.47972297e-01,\n",
       "        -2.11354862e-01,  8.64769352e-01],\n",
       "       [ 1.16005459e+00, -1.03653670e+00, -2.54288698e-01,\n",
       "         1.03566900e+00,  8.67486640e-01],\n",
       "       [-2.56196874e+00,  8.75864814e-01,  8.35470836e-01,\n",
       "        -1.08976051e+00,  8.95924983e-01],\n",
       "       [ 1.32318803e+00, -5.55484368e-01, -5.93423788e-01,\n",
       "        -8.22109701e-02,  4.14692762e-01],\n",
       "       [ 2.04093515e+00, -1.48768309e-01, -3.42659231e-01,\n",
       "        -3.70621361e-01, -7.09195582e-01],\n",
       "       [ 1.82381932e+00, -4.55483916e-01, -3.03161346e-01,\n",
       "        -3.15550528e-01,  3.74856783e-01],\n",
       "       [ 3.16425911e+00, -4.38176317e-01,  1.76713683e+00,\n",
       "         3.24408248e-01,  6.82316104e-02],\n",
       "       [-1.61764140e-02, -3.09675042e-01, -6.82679091e-01,\n",
       "        -4.81038120e-02, -5.57841892e-02],\n",
       "       [ 2.61212961e-01, -4.42930073e-01, -5.10757315e-01,\n",
       "         4.95346747e-01,  4.32300332e-01],\n",
       "       [-4.97673126e-01,  4.18224948e-01, -8.36429343e-01,\n",
       "        -5.06829964e-02, -1.12118700e-01],\n",
       "       [ 3.10410585e-02, -9.98779708e-01, -9.44196269e-01,\n",
       "         1.81916941e-02, -1.34125774e-01],\n",
       "       [-1.37854037e+00,  2.98964785e+00,  1.66208591e+00,\n",
       "        -5.25195434e-02,  2.97202940e-01],\n",
       "       [-2.13692956e+00,  6.00785420e-01, -5.92889686e-01,\n",
       "        -5.14706462e-01, -7.40750602e-01],\n",
       "       [ 1.34326782e+00,  1.05768068e-01, -7.69667879e-01,\n",
       "        -3.77694377e-01,  3.25190471e-01],\n",
       "       [-5.03952940e-01,  1.06284038e-02, -8.79196557e-01,\n",
       "        -5.11395013e-01,  1.32318582e-01],\n",
       "       [ 2.69357037e+00, -3.66293111e-01,  8.66728570e-01,\n",
       "        -1.78142843e-01, -2.29293105e-01],\n",
       "       [ 2.62527711e+00, -1.05423408e+00,  1.20739702e+00,\n",
       "         4.59123062e-01,  2.34068452e-01],\n",
       "       [-8.05084688e-01,  2.67188651e+00,  1.15960673e-01,\n",
       "        -4.05349916e-01,  1.20083854e+00],\n",
       "       [-2.24082270e+00, -1.86935696e-01,  3.75986097e-01,\n",
       "        -6.55323506e-01, -2.01967130e-01],\n",
       "       [ 1.71299347e-01, -1.34920646e+00, -4.35143863e-01,\n",
       "         1.01676363e+00,  3.62669910e-01],\n",
       "       [ 2.91192597e+00, -8.09390806e-01,  1.13461793e+00,\n",
       "         3.25430058e-01,  4.23993140e-01],\n",
       "       [-2.09467583e+00,  4.30123251e-01,  3.43000859e-02,\n",
       "         2.20329001e-01, -3.67434993e-01],\n",
       "       [ 2.07210068e+00, -1.19492650e+00,  2.42678029e-01,\n",
       "         3.39038490e-01,  9.54081878e-02],\n",
       "       [ 3.30526895e-02, -1.00992952e+00, -9.39439008e-01,\n",
       "        -3.92637861e-01, -5.76726162e-01],\n",
       "       [-5.19084353e-01, -4.19411861e-01, -4.23755137e-01,\n",
       "        -3.22902504e-02,  1.73005265e-01],\n",
       "       [-2.97805663e+00,  7.70774604e-01,  6.55703389e-01,\n",
       "        -1.69794233e-01, -1.87146237e-01],\n",
       "       [-2.78210399e+00, -7.89654398e-01,  1.29508007e+00,\n",
       "        -6.00176451e-01,  4.28693540e-01],\n",
       "       [-9.66299718e-01, -7.01131760e-01, -7.57477155e-01,\n",
       "        -2.42401422e-01, -6.20778366e-01],\n",
       "       [-5.01181127e+00, -1.09599811e+00,  2.03197089e+00,\n",
       "        -1.37829105e+00, -5.19018269e-01],\n",
       "       [ 1.37917419e+00, -2.10103930e-01, -6.49917396e-01,\n",
       "        -1.08032297e-01,  5.53341614e-01],\n",
       "       [ 2.65239704e+00,  5.39884230e-02,  8.73239848e-01,\n",
       "         3.08092187e-01,  1.17546949e-01],\n",
       "       [-1.02033978e+00,  4.86527004e-01, -8.35491723e-01,\n",
       "        -3.88773573e-01,  7.45408748e-02],\n",
       "       [-4.89890724e-01,  1.22887451e+00, -1.31981250e+00,\n",
       "        -1.71628340e-02, -2.04771294e-01],\n",
       "       [ 5.40683289e-01,  7.52401974e-01, -9.46206645e-01,\n",
       "         6.33034080e-01,  1.41730230e-01],\n",
       "       [-7.84014111e-01,  5.17851359e-01,  5.14129741e-01,\n",
       "         8.25695403e-01,  6.65611073e-01],\n",
       "       [ 3.10764360e+00,  9.85110770e-03,  1.16512300e+00,\n",
       "        -5.55341140e-01,  3.36347703e-01],\n",
       "       [ 1.78711065e+00, -8.97601790e-02,  2.84710628e-01,\n",
       "        -1.74515647e-01, -1.01093539e-01],\n",
       "       [ 2.55648374e+00, -7.22411093e-01,  4.65987335e-01,\n",
       "         7.00928795e-02, -4.06334063e-02],\n",
       "       [-4.84094293e-02, -2.02508108e-01, -1.29889879e+00,\n",
       "         2.16045750e-01, -6.12633387e-01],\n",
       "       [ 2.90274693e+00, -6.88196615e-01,  6.42513766e-01,\n",
       "        -1.33640224e-01, -1.14631903e-02],\n",
       "       [-2.65035541e-01, -8.26322946e-01, -3.33065989e-01,\n",
       "         5.93439124e-01, -2.59300556e-01],\n",
       "       [ 9.84451161e-02,  1.63437785e+00, -6.33452680e-01,\n",
       "         4.21471015e-01,  1.77382977e-01],\n",
       "       [-1.72592076e+00, -6.93794630e-02, -2.11134236e-01,\n",
       "        -9.27411215e-01,  6.33416872e-04],\n",
       "       [-2.07633515e+00, -3.17688423e+00,  7.78242991e-01,\n",
       "         3.90206197e-01, -9.95602833e-01],\n",
       "       [ 2.99668201e+00,  2.98016111e+00,  4.72685495e-01,\n",
       "        -9.36017059e-01, -5.23159834e-01],\n",
       "       [-1.02410130e+00, -7.78219720e-01, -7.63410346e-01,\n",
       "         3.48208514e-01, -6.69901831e-01],\n",
       "       [-1.62753610e+00,  2.26001816e-01, -3.94361018e-01,\n",
       "        -4.22601717e-01, -1.97836786e-01],\n",
       "       [ 1.05978886e+00, -4.74417985e-01, -8.34329013e-01,\n",
       "        -4.30947852e-01,  3.63232149e-01],\n",
       "       [ 8.97791817e-01, -1.26153527e+00, -1.01694052e+00,\n",
       "        -3.08447608e-02, -5.38787516e-01],\n",
       "       [-3.01885535e+00, -2.74152403e+00,  1.35754942e+00,\n",
       "         8.75991986e-02, -6.33232777e-01],\n",
       "       [-2.85315394e+00, -3.14211024e+00,  1.37169771e+00,\n",
       "         6.45922727e-01, -1.27342126e+00],\n",
       "       [ 1.04868620e+00,  1.83335603e+00, -7.39216245e-01,\n",
       "         6.79340898e-04,  2.88584635e-01],\n",
       "       [ 1.08233775e+00, -3.69882459e-01, -6.73334552e-01,\n",
       "        -1.45011082e-01,  2.64596387e-01],\n",
       "       [ 5.56659509e+00,  1.89334124e+00,  3.24119800e+00,\n",
       "        -9.64270203e-01, -1.03010450e+00],\n",
       "       [ 4.97363186e-01, -1.06473956e+00, -1.07995870e+00,\n",
       "         3.41308460e-02, -9.38803804e-02],\n",
       "       [-2.14889792e+00,  2.87034615e-01, -3.09199643e-01,\n",
       "        -5.95259423e-01, -4.60794788e-01],\n",
       "       [-2.86790103e+00,  2.39417343e-01,  8.85128522e-01,\n",
       "        -2.17093785e-01,  2.50623809e-01],\n",
       "       [ 9.14198358e-01,  1.00758721e+00, -1.03293631e+00,\n",
       "        -3.05848589e-01,  4.33574213e-01],\n",
       "       [ 8.53012676e-01,  1.70661773e-01, -9.66729317e-01,\n",
       "        -1.53865828e-01,  8.49610335e-01],\n",
       "       [-3.31824580e+00,  4.40749600e-01,  1.19579927e+00,\n",
       "        -1.23743362e+00,  3.44985353e-02],\n",
       "       [ 1.89915708e+00, -5.08572213e-01, -2.02499481e-01,\n",
       "         2.88366462e-01,  1.73583273e-01],\n",
       "       [-2.22294061e+00,  1.00168922e+00,  1.53368437e-01,\n",
       "         2.16905360e-01, -4.11938530e-01],\n",
       "       [ 6.21639086e-01, -5.59530555e-01, -9.97600624e-01,\n",
       "        -3.51333724e-01, -8.07830795e-02],\n",
       "       [-1.19456272e+00, -3.45612754e+00,  9.62002249e-01,\n",
       "         1.22075974e+00, -3.41325164e-01],\n",
       "       [-1.54057012e-01, -2.33055823e+00, -3.57283146e-01,\n",
       "         1.58645984e+00, -1.40359505e-01],\n",
       "       [-1.06090038e+00,  1.38097708e+00, -7.28028798e-01,\n",
       "         2.32312430e+00, -6.90601132e-01],\n",
       "       [ 6.89677036e-01, -1.67592312e+00, -6.42568905e-01,\n",
       "         3.99506587e-01, -1.81949182e-01],\n",
       "       [-1.99523971e-01, -3.85855718e-01, -1.02508060e+00,\n",
       "        -5.32459022e-01,  3.44918068e-03],\n",
       "       [-3.01566805e+00,  2.74740085e-01,  7.41531343e-01,\n",
       "        -8.14446218e-01,  7.25317045e-03],\n",
       "       [-1.03591915e+00,  9.44512240e-01, -1.24318681e+00,\n",
       "        -9.09937826e-01, -1.11973598e-02],\n",
       "       [-1.35940538e+00, -3.94417685e-01,  2.43920220e-01,\n",
       "        -5.59084180e-01,  2.18659240e-01],\n",
       "       [-1.19516514e+00, -2.60085050e-01, -8.88191860e-01,\n",
       "         5.19213534e-01, -7.36416907e-01],\n",
       "       [ 3.18636294e+00, -6.26197960e-01,  1.61997390e+00,\n",
       "         2.72999062e-01,  3.47663679e-01],\n",
       "       [ 2.20251413e+00, -5.19319758e-01,  6.84633624e-01,\n",
       "         3.87419999e-01,  2.17385959e-01],\n",
       "       [-3.64719617e+00, -1.06525406e-01,  1.28484875e+00,\n",
       "        -1.26815517e+00, -5.02871215e-01],\n",
       "       [-4.18988718e+00,  5.61586457e+00,  1.34046543e+00,\n",
       "         6.43688268e+00, -1.39512458e+00],\n",
       "       [ 4.20166255e+00,  5.61574929e-01,  2.57733054e+00,\n",
       "        -8.16027710e-02, -9.29198159e-01],\n",
       "       [ 1.40191241e+00,  2.40837935e+00, -3.65788692e-01,\n",
       "        -2.56177873e-01, -2.78087164e-01],\n",
       "       [-1.91369481e+00,  1.11921424e+00, -5.13497970e-01,\n",
       "        -7.84532928e-01, -3.28190540e-01],\n",
       "       [ 6.21114875e-01, -7.29582255e-01, -4.09152907e-01,\n",
       "         1.25736502e-01,  2.28940056e-01],\n",
       "       [ 6.45696740e-02,  1.74758710e-01, -8.95876420e-01,\n",
       "        -5.37145768e-02,  5.18802437e-01],\n",
       "       [ 4.16721903e-01,  3.24084998e-01, -1.12729845e+00,\n",
       "        -1.42514222e-01,  2.99700477e-01],\n",
       "       [-6.11151520e-01,  4.26624103e-01, -1.06747665e+00,\n",
       "        -7.06455672e-01,  8.74241217e-02],\n",
       "       [ 1.32376121e+00, -5.00262246e-01, -6.74991175e-01,\n",
       "        -6.56146997e-02,  2.84773263e-01],\n",
       "       [ 1.98703178e+00, -1.34522085e+00,  2.15046509e-01,\n",
       "         4.77048851e-01,  3.58982985e-01],\n",
       "       [ 4.95476935e+00,  3.74005961e+00,  2.03833775e+00,\n",
       "        -1.94281149e+00, -1.79947420e+00],\n",
       "       [ 7.20078968e-01, -1.96162388e-01, -1.05183708e+00,\n",
       "        -2.56421088e-01, -5.42148782e-02],\n",
       "       [ 6.82358863e-01,  9.39906447e-01, -8.15502550e-01,\n",
       "         2.68539359e-01,  1.31507674e-01],\n",
       "       [-1.50518398e+00, -1.36544559e+00,  7.99228041e-01,\n",
       "         1.53373220e-01,  6.98922226e-01],\n",
       "       [-7.52251192e-01, -8.97287432e-01, -4.58304640e-01,\n",
       "        -2.61078875e-01, -3.99143197e-01],\n",
       "       [ 1.24078314e+00,  1.94699030e+00, -2.05285738e-02,\n",
       "         1.21097472e-01, -3.68591332e-01],\n",
       "       [-1.89075012e+00, -2.70166144e-01,  1.35318716e-01,\n",
       "        -8.08934482e-01,  9.23047103e-03],\n",
       "       [ 7.81338550e-01, -1.44321419e+00, -4.72410875e-01,\n",
       "         8.95258689e-01,  4.35645819e-01],\n",
       "       [ 5.33641639e-01, -2.63325738e-01, -1.18350393e+00,\n",
       "        -1.27276851e+00, -6.53539359e-01],\n",
       "       [-3.30740901e+00, -8.25989893e-01,  2.67172062e+00,\n",
       "         1.04282579e+00,  1.00659908e+00],\n",
       "       [ 3.81605945e+00,  1.71904651e+00,  3.61340260e-01,\n",
       "        -1.35279775e+00, -5.66723480e-01],\n",
       "       [ 1.52263104e+00, -7.38298321e-01, -2.22879796e-01,\n",
       "        -3.31533461e-03,  4.33658732e-01],\n",
       "       [ 2.04722272e+00, -7.77879561e-01,  4.24529468e-02,\n",
       "         6.96225718e-03,  4.46764532e-01],\n",
       "       [-1.52500559e+00, -1.33492503e+00,  1.10209915e-01,\n",
       "         3.19864951e-01, -2.52502047e-01],\n",
       "       [-8.99573332e-01, -2.84016407e-01,  6.34100169e-01,\n",
       "        -1.10942388e-01,  1.07479322e+00],\n",
       "       [ 2.00003535e+00, -5.01767912e-02, -4.96236231e-01,\n",
       "        -8.43528265e-02,  3.63080578e-02],\n",
       "       [ 2.41232513e+00, -7.86625369e-01,  2.27638808e-01,\n",
       "         1.22426463e-01,  1.35558587e-01],\n",
       "       [-1.78460979e-01,  1.10941839e+00, -1.67426219e+00,\n",
       "         8.75541590e-01, -7.40968339e-01],\n",
       "       [-2.21803076e-01, -7.23412834e-01, -1.24359067e+00,\n",
       "        -2.95851126e-01, -1.02332715e+00],\n",
       "       [-1.80183026e+00,  1.00753730e+00,  3.68425543e-01,\n",
       "         5.90334080e-01,  3.92483181e-01],\n",
       "       [ 3.73562152e-01,  4.33278458e-01, -3.43654156e-01,\n",
       "         2.15237170e-02,  9.59386131e-01],\n",
       "       [ 3.01827471e+00, -2.70173484e-01,  1.21405287e+00,\n",
       "        -6.21860489e-02, -1.41066397e-01],\n",
       "       [ 4.10968937e+00, -3.01852876e-01,  2.30614464e+00,\n",
       "        -4.89603329e-03, -1.73944829e-01],\n",
       "       [-1.57386129e+00, -9.66005987e-01, -5.45299700e-01,\n",
       "         4.77484176e-01, -1.29065681e+00],\n",
       "       [-2.32258324e+00,  2.27372818e-01,  4.89389040e-01,\n",
       "        -3.43399072e-01,  1.56317864e-01],\n",
       "       [ 7.42278730e-01,  4.79648155e-01, -1.55374769e+00,\n",
       "        -4.60849919e-01,  2.17097219e-01],\n",
       "       [-2.10399819e+00, -7.10205321e-02,  9.46277372e-01,\n",
       "         1.83336348e+00, -5.78121257e-01],\n",
       "       [-2.30087273e+00, -6.99227864e-01,  7.79782243e-01,\n",
       "        -7.13064615e-01,  4.04479688e-01],\n",
       "       [-1.13169563e+00, -1.33991824e+00, -8.56306609e-01,\n",
       "        -2.32869760e-01, -1.56130756e+00],\n",
       "       [ 4.64910925e-01, -3.13379594e-01, -1.06855278e+00,\n",
       "        -3.92759410e-02,  2.13484058e-01],\n",
       "       [ 7.91880621e-01, -1.60349816e-01, -6.55784729e-01,\n",
       "         2.22601820e-01, -2.78844331e-02],\n",
       "       [-3.29611421e-01,  1.75784925e+00, -8.13107317e-01,\n",
       "        -1.39666657e+00,  1.23088746e+00],\n",
       "       [-2.63831826e+00, -2.47709455e-01,  1.36597251e+00,\n",
       "         1.48603293e-01,  5.77972112e-01],\n",
       "       [ 2.43048420e-01, -2.45158414e-01, -9.11391944e-01,\n",
       "         9.06295138e-01,  4.55549204e-01],\n",
       "       [ 2.30309263e+00,  1.86060605e+00,  1.23076802e-01,\n",
       "        -3.96027925e-01, -8.83795063e-01],\n",
       "       [ 2.39525178e+00, -6.38677163e-01,  7.42103747e-01,\n",
       "         1.12653757e-01, -1.27945794e-01],\n",
       "       [ 3.20111972e+00, -2.12055815e+00,  2.82423070e+00,\n",
       "         1.29501904e+00,  8.22360574e-01],\n",
       "       [ 1.01416633e+00, -4.17654837e-01, -3.88082372e-01,\n",
       "         3.10859466e-01,  5.24693684e-01],\n",
       "       [-5.06717839e-01,  6.25312914e-01, -8.32311401e-01,\n",
       "         6.28425788e-01,  4.50422990e-01],\n",
       "       [-9.63931229e-01, -9.34769493e-02, -5.87324441e-01,\n",
       "        -6.46705718e-01,  3.04364549e-01],\n",
       "       [ 1.23489954e-01,  2.54169030e+00, -6.65472928e-01,\n",
       "         2.76940930e+00, -5.41401576e-01],\n",
       "       [-7.27285075e-02, -2.38091730e-01, -1.02063752e+00,\n",
       "         6.89893298e-01,  2.07505693e-01],\n",
       "       [-1.65986867e+00,  1.12853355e+00, -1.14820923e-01,\n",
       "         8.60223388e-01, -1.89653748e-01],\n",
       "       [-2.61894325e+00,  1.07357129e+00,  8.56383159e-01,\n",
       "        -2.96414882e-01,  7.63851561e-01]])"
      ]
     },
     "execution_count": 38,
     "metadata": {},
     "output_type": "execute_result"
    }
   ],
   "source": [
    "df_train_pca"
   ]
  },
  {
   "cell_type": "code",
   "execution_count": 39,
   "metadata": {},
   "outputs": [],
   "source": [
    "df_train_pca = pd.DataFrame(df_train_pca, columns=['PC 1', 'PC 2', 'PC 3', 'PC 4','PC 5'])"
   ]
  },
  {
   "cell_type": "code",
   "execution_count": 40,
   "metadata": {},
   "outputs": [
    {
     "data": {
      "text/html": [
       "<div>\n",
       "<style scoped>\n",
       "    .dataframe tbody tr th:only-of-type {\n",
       "        vertical-align: middle;\n",
       "    }\n",
       "\n",
       "    .dataframe tbody tr th {\n",
       "        vertical-align: top;\n",
       "    }\n",
       "\n",
       "    .dataframe thead th {\n",
       "        text-align: right;\n",
       "    }\n",
       "</style>\n",
       "<table border=\"1\" class=\"dataframe\">\n",
       "  <thead>\n",
       "    <tr style=\"text-align: right;\">\n",
       "      <th></th>\n",
       "      <th>Feature 1</th>\n",
       "      <th>Feature 2</th>\n",
       "      <th>Feature 3</th>\n",
       "      <th>Feature 4</th>\n",
       "      <th>Feature 5</th>\n",
       "    </tr>\n",
       "  </thead>\n",
       "  <tbody>\n",
       "    <tr>\n",
       "      <th>0</th>\n",
       "      <td>-3.045840</td>\n",
       "      <td>-0.766976</td>\n",
       "      <td>1.064357</td>\n",
       "      <td>-0.108373</td>\n",
       "      <td>-0.510394</td>\n",
       "    </tr>\n",
       "    <tr>\n",
       "      <th>1</th>\n",
       "      <td>0.359311</td>\n",
       "      <td>-0.910477</td>\n",
       "      <td>-1.171918</td>\n",
       "      <td>0.168573</td>\n",
       "      <td>-0.327275</td>\n",
       "    </tr>\n",
       "    <tr>\n",
       "      <th>2</th>\n",
       "      <td>0.057467</td>\n",
       "      <td>1.174424</td>\n",
       "      <td>-1.026263</td>\n",
       "      <td>0.388395</td>\n",
       "      <td>0.015962</td>\n",
       "    </tr>\n",
       "    <tr>\n",
       "      <th>3</th>\n",
       "      <td>-2.807426</td>\n",
       "      <td>2.682960</td>\n",
       "      <td>0.791108</td>\n",
       "      <td>-0.292455</td>\n",
       "      <td>0.431531</td>\n",
       "    </tr>\n",
       "    <tr>\n",
       "      <th>4</th>\n",
       "      <td>0.818287</td>\n",
       "      <td>-0.542576</td>\n",
       "      <td>-0.811120</td>\n",
       "      <td>-0.294184</td>\n",
       "      <td>-0.376856</td>\n",
       "    </tr>\n",
       "  </tbody>\n",
       "</table>\n",
       "</div>"
      ],
      "text/plain": [
       "   Feature 1  Feature 2  Feature 3  Feature 4  Feature 5\n",
       "0  -3.045840  -0.766976   1.064357  -0.108373  -0.510394\n",
       "1   0.359311  -0.910477  -1.171918   0.168573  -0.327275\n",
       "2   0.057467   1.174424  -1.026263   0.388395   0.015962\n",
       "3  -2.807426   2.682960   0.791108  -0.292455   0.431531\n",
       "4   0.818287  -0.542576  -0.811120  -0.294184  -0.376856"
      ]
     },
     "execution_count": 40,
     "metadata": {},
     "output_type": "execute_result"
    }
   ],
   "source": [
    "df_train_pca.head()"
   ]
  },
  {
   "cell_type": "markdown",
   "metadata": {},
   "source": [
    "# Clustering using KMeans and Hierarchical clustering"
   ]
  },
  {
   "cell_type": "code",
   "execution_count": 41,
   "metadata": {},
   "outputs": [],
   "source": [
    "from scipy.cluster import hierarchy as hc"
   ]
  },
  {
   "cell_type": "code",
   "execution_count": 42,
   "metadata": {},
   "outputs": [],
   "source": [
    "# Lets try with complete linkage\n",
    "mergings = hc.linkage(df_train_pca, metric = 'euclidean', method='complete')"
   ]
  },
  {
   "cell_type": "code",
   "execution_count": 43,
   "metadata": {},
   "outputs": [
    {
     "data": {
      "image/png": "[encoded data removed]",
      "text/plain": [
       "<Figure size 1080x648 with 1 Axes>"
      ]
     },
     "metadata": {},
     "output_type": "display_data"
    }
   ],
   "source": [
    "sns.set_style(\"white\")\n",
    "plt.figure(figsize=(15,9))\n",
    "hc.dendrogram(mergings)\n",
    "plt.show()"
   ]
  },
  {
   "cell_type": "code",
   "execution_count": 44,
   "metadata": {},
   "outputs": [],
   "source": [
    "clustercut = pd.Series(hc.cut_tree(mergings, n_clusters = 5).reshape(-1,))"
   ]
  },
  {
   "cell_type": "code",
   "execution_count": 45,
   "metadata": {},
   "outputs": [
    {
     "data": {
      "text/plain": [
       "1    88\n",
       "0    42\n",
       "2    30\n",
       "3     6\n",
       "4     1\n",
       "dtype: int64"
      ]
     },
     "execution_count": 45,
     "metadata": {},
     "output_type": "execute_result"
    }
   ],
   "source": [
    "clustercut.value_counts()"
   ]
  },
  {
   "cell_type": "code",
   "execution_count": 46,
   "metadata": {},
   "outputs": [],
   "source": [
    "df_hc = pd.concat([df,pd.DataFrame({'cluster':clustercut})], axis=1)"
   ]
  },
  {
   "cell_type": "code",
   "execution_count": 47,
   "metadata": {},
   "outputs": [
    {
     "data": {
      "text/html": [
       "<div>\n",
       "<style scoped>\n",
       "    .dataframe tbody tr th:only-of-type {\n",
       "        vertical-align: middle;\n",
       "    }\n",
       "\n",
       "    .dataframe tbody tr th {\n",
       "        vertical-align: top;\n",
       "    }\n",
       "\n",
       "    .dataframe thead th {\n",
       "        text-align: right;\n",
       "    }\n",
       "</style>\n",
       "<table border=\"1\" class=\"dataframe\">\n",
       "  <thead>\n",
       "    <tr style=\"text-align: right;\">\n",
       "      <th></th>\n",
       "      <th>child_mort</th>\n",
       "      <th>health</th>\n",
       "      <th>income</th>\n",
       "      <th>inflation</th>\n",
       "      <th>life_expec</th>\n",
       "      <th>total_fer</th>\n",
       "      <th>gdpp</th>\n",
       "      <th>trade_bal</th>\n",
       "      <th>cluster</th>\n",
       "    </tr>\n",
       "  </thead>\n",
       "  <tbody>\n",
       "    <tr>\n",
       "      <th>0</th>\n",
       "      <td>90.2</td>\n",
       "      <td>7.58</td>\n",
       "      <td>1610</td>\n",
       "      <td>9.44</td>\n",
       "      <td>56.2</td>\n",
       "      <td>5.82</td>\n",
       "      <td>553</td>\n",
       "      <td>-34.9</td>\n",
       "      <td>0</td>\n",
       "    </tr>\n",
       "    <tr>\n",
       "      <th>1</th>\n",
       "      <td>16.6</td>\n",
       "      <td>6.55</td>\n",
       "      <td>9930</td>\n",
       "      <td>4.49</td>\n",
       "      <td>76.3</td>\n",
       "      <td>1.65</td>\n",
       "      <td>4090</td>\n",
       "      <td>-20.6</td>\n",
       "      <td>1</td>\n",
       "    </tr>\n",
       "    <tr>\n",
       "      <th>2</th>\n",
       "      <td>27.3</td>\n",
       "      <td>4.17</td>\n",
       "      <td>12900</td>\n",
       "      <td>16.10</td>\n",
       "      <td>76.5</td>\n",
       "      <td>2.89</td>\n",
       "      <td>4460</td>\n",
       "      <td>7.0</td>\n",
       "      <td>1</td>\n",
       "    </tr>\n",
       "    <tr>\n",
       "      <th>3</th>\n",
       "      <td>119.0</td>\n",
       "      <td>2.85</td>\n",
       "      <td>5900</td>\n",
       "      <td>22.40</td>\n",
       "      <td>60.1</td>\n",
       "      <td>6.16</td>\n",
       "      <td>3530</td>\n",
       "      <td>19.4</td>\n",
       "      <td>1</td>\n",
       "    </tr>\n",
       "    <tr>\n",
       "      <th>4</th>\n",
       "      <td>10.3</td>\n",
       "      <td>6.03</td>\n",
       "      <td>19100</td>\n",
       "      <td>1.44</td>\n",
       "      <td>76.8</td>\n",
       "      <td>2.13</td>\n",
       "      <td>12200</td>\n",
       "      <td>-13.4</td>\n",
       "      <td>1</td>\n",
       "    </tr>\n",
       "  </tbody>\n",
       "</table>\n",
       "</div>"
      ],
      "text/plain": [
       "   child_mort  health  income  inflation  life_expec  total_fer   gdpp  \\\n",
       "0        90.2    7.58    1610       9.44        56.2       5.82    553   \n",
       "1        16.6    6.55    9930       4.49        76.3       1.65   4090   \n",
       "2        27.3    4.17   12900      16.10        76.5       2.89   4460   \n",
       "3       119.0    2.85    5900      22.40        60.1       6.16   3530   \n",
       "4        10.3    6.03   19100       1.44        76.8       2.13  12200   \n",
       "\n",
       "   trade_bal  cluster  \n",
       "0      -34.9        0  \n",
       "1      -20.6        1  \n",
       "2        7.0        1  \n",
       "3       19.4        1  \n",
       "4      -13.4        1  "
      ]
     },
     "execution_count": 47,
     "metadata": {},
     "output_type": "execute_result"
    }
   ],
   "source": [
    "df_hc.head()"
   ]
  },
  {
   "cell_type": "code",
   "execution_count": 48,
   "metadata": {},
   "outputs": [],
   "source": [
    "avg = df_hc.groupby(by='cluster').mean()"
   ]
  },
  {
   "cell_type": "code",
   "execution_count": 49,
   "metadata": {},
   "outputs": [],
   "source": [
    "w = 0.10 # width of each bar in bar plot\n",
    "r1 = [1,2,3,4,5]        # r1, r2, r3, r4 are the positions of the bars.\n",
    "r2 = [x-w for x in r1]\n",
    "r3 = [x-2*w for x in r1]\n",
    "r4 = [x+w for x in r1]"
   ]
  },
  {
   "cell_type": "markdown",
   "metadata": {},
   "source": [
    "### Comapring all the Economic Factors"
   ]
  },
  {
   "cell_type": "code",
   "execution_count": 50,
   "metadata": {},
   "outputs": [
    {
     "data": {
      "text/plain": [
       "<matplotlib.legend.Legend at 0x1656125ca90>"
      ]
     },
     "execution_count": 50,
     "metadata": {},
     "output_type": "execute_result"
    },
    {
     "data": {
      "image/png": "[encoded data removed]",
      "text/plain": [
       "<Figure size 1080x648 with 1 Axes>"
      ]
     },
     "metadata": {},
     "output_type": "display_data"
    }
   ],
   "source": [
    "plt.figure(figsize=(15,9))\n",
    "sns.set_style('dark')\n",
    "plt.bar(r1, avg['inflation'] , color='#35477d', width=w,edgecolor='white', label='Inflation')\n",
    "plt.bar(r2, avg['gdpp']/1000 , color='#6c5b7b', width=w, edgecolor='white', label='GDPP')\n",
    "plt.bar(r3, avg['trade_bal'] , color='#c06c84', width=w,edgecolor='white', label='Trade Balance')\n",
    "plt.bar(r4, avg['income']/1000 , color='#f67280', width=w, edgecolor='white', label='Income')\n",
    "\n",
    "plt.xlabel('Clusters')\n",
    "plt.xticks(np.arange(1,6), ['Cluster '+ str(x) for x in range(5)])\n",
    "plt.yticks([]) # Removing yticks since all our parameters have different scale.\n",
    "\n",
    "plt.legend()"
   ]
  },
  {
   "cell_type": "code",
   "execution_count": 51,
   "metadata": {},
   "outputs": [
    {
     "data": {
      "text/plain": [
       "<matplotlib.legend.Legend at 0x16561287cc0>"
      ]
     },
     "execution_count": 51,
     "metadata": {},
     "output_type": "execute_result"
    },
    {
     "data": {
      "image/png": "[encoded data removed]",
      "text/plain": [
       "<Figure size 1080x648 with 1 Axes>"
      ]
     },
     "metadata": {},
     "output_type": "display_data"
    }
   ],
   "source": [
    "plt.figure(figsize=(15,9))\n",
    "sns.set_style('dark')\n",
    "plt.bar(r1, avg['child_mort'] , color='#35477d', width=w,edgecolor='white', label='Child Mortality')\n",
    "plt.bar(r2, avg['health']*10, color='#6c5b7b', width=w, edgecolor='white', label='Health Expenditure')\n",
    "plt.bar(r3, avg['total_fer']*10 , color='#c06c84', width=w,edgecolor='white', label='Total Fertility')\n",
    "plt.bar(r4, avg['life_expec'] , color='#f67280', width=w, edgecolor='white', label='Life Expectancy')\n",
    "plt.xlabel('Clusters')\n",
    "plt.xticks(np.arange(1,6), ['Cluster '+ str(x) for x in range(5)])\n",
    "plt.yticks([]) # Removing yticks since all our parameters have different scale.\n",
    "\n",
    "\n",
    "for i,v in enumerate(avg['child_mort']):\n",
    "    plt.text(r1[i], v + 2, '%.1f' % v, color='#35477d', fontweight='bold', horizontalalignment='center')\n",
    "for i,v in enumerate(avg['health']):\n",
    "    plt.text(r2[i], v*10 + 2, '%.1f' % v, color='#6c5b7b', fontweight='bold', horizontalalignment='center')\n",
    "for i,v in enumerate(avg['total_fer']):\n",
    "    plt.text(r3[i], v*10 + 2, '%.1f' % v, color='#c06c84', fontweight='bold', horizontalalignment='center')\n",
    "for i,v in enumerate(avg['life_expec']):    \n",
    "    plt.text(r4[i], v + 2, '%.1f' % v, color='#f67280', fontweight='bold', horizontalalignment='center')\n",
    "plt.legend()"
   ]
  },
  {
   "cell_type": "markdown",
   "metadata": {},
   "source": [
    "# KMeans Clustering"
   ]
  },
  {
   "cell_type": "markdown",
   "metadata": {},
   "source": [
    "### Silhouette Score"
   ]
  },
  {
   "cell_type": "code",
   "execution_count": 52,
   "metadata": {},
   "outputs": [],
   "source": [
    "sns.set_style(\"darkgrid\")\n",
    "from sklearn.cluster import KMeans\n",
    "from sklearn.metrics import silhouette_score\n",
    "sse_ = []\n",
    "for k in range(2,11):\n",
    "    kmeans = KMeans(n_clusters=k,max_iter=100,random_state=12).fit(df_train_pca)\n",
    "    sse_.append([k,silhouette_score(df_train_pca, kmeans.labels_)])"
   ]
  },
  {
   "cell_type": "code",
   "execution_count": 53,
   "metadata": {},
   "outputs": [
    {
     "data": {
      "text/plain": [
       "[<matplotlib.lines.Line2D at 0x16561649a58>]"
      ]
     },
     "execution_count": 53,
     "metadata": {},
     "output_type": "execute_result"
    },
    {
     "data": {
      "image/png": "[encoded data removed]",
      "text/plain": [
       "<Figure size 720x432 with 1 Axes>"
      ]
     },
     "metadata": {},
     "output_type": "display_data"
    }
   ],
   "source": [
    "plt.plot(pd.DataFrame(sse_)[0], pd.DataFrame(sse_)[1])"
   ]
  },
  {
   "cell_type": "markdown",
   "metadata": {},
   "source": [
    "Silhoutte score suggests 6 is the optimum number of clusters to have."
   ]
  },
  {
   "cell_type": "markdown",
   "metadata": {},
   "source": [
    "### Sum of Squared Distances"
   ]
  },
  {
   "cell_type": "code",
   "execution_count": 54,
   "metadata": {},
   "outputs": [
    {
     "data": {
      "text/plain": [
       "[<matplotlib.lines.Line2D at 0x165617edc50>]"
      ]
     },
     "execution_count": 54,
     "metadata": {},
     "output_type": "execute_result"
    },
    {
     "data": {
      "image/png": "[encoded data removed]",
      "text/plain": [
       "<Figure size 720x432 with 1 Axes>"
      ]
     },
     "metadata": {},
     "output_type": "display_data"
    }
   ],
   "source": [
    "ssd =[]\n",
    "for num_clusters in list(range(2,21)):\n",
    "    kmeans_model = KMeans(n_clusters=num_clusters, max_iter=100)\n",
    "    kmeans_model.fit(df_train_pca)\n",
    "    ssd.append(kmeans_model.inertia_)\n",
    "\n",
    "plt.plot(ssd)"
   ]
  },
  {
   "cell_type": "markdown",
   "metadata": {},
   "source": [
    "Here the sharp decline ends between 5 and 7.5, after that decline is linear. So the optimum number of clusters according to SSD is K = 6."
   ]
  },
  {
   "cell_type": "markdown",
   "metadata": {},
   "source": [
    "### KMeans with K=6"
   ]
  },
  {
   "cell_type": "code",
   "execution_count": 55,
   "metadata": {},
   "outputs": [
    {
     "data": {
      "text/plain": [
       "KMeans(algorithm='auto', copy_x=True, init='k-means++', max_iter=100,\n",
       "    n_clusters=6, n_init=10, n_jobs=1, precompute_distances='auto',\n",
       "    random_state=100, tol=0.0001, verbose=0)"
      ]
     },
     "execution_count": 55,
     "metadata": {},
     "output_type": "execute_result"
    }
   ],
   "source": [
    "kmeans_model_k6 = KMeans(n_clusters=6, max_iter=100,random_state=100)\n",
    "kmeans_model_k6.fit(df_train_pca)"
   ]
  },
  {
   "cell_type": "code",
   "execution_count": 56,
   "metadata": {},
   "outputs": [],
   "source": [
    "df_kmeans_k6 = pd.concat([df, pd.DataFrame({'cluster':kmeans_model_k6.labels_})], axis=1)"
   ]
  },
  {
   "cell_type": "code",
   "execution_count": 57,
   "metadata": {},
   "outputs": [
    {
     "data": {
      "text/html": [
       "<div>\n",
       "<style scoped>\n",
       "    .dataframe tbody tr th:only-of-type {\n",
       "        vertical-align: middle;\n",
       "    }\n",
       "\n",
       "    .dataframe tbody tr th {\n",
       "        vertical-align: top;\n",
       "    }\n",
       "\n",
       "    .dataframe thead th {\n",
       "        text-align: right;\n",
       "    }\n",
       "</style>\n",
       "<table border=\"1\" class=\"dataframe\">\n",
       "  <thead>\n",
       "    <tr style=\"text-align: right;\">\n",
       "      <th></th>\n",
       "      <th>child_mort</th>\n",
       "      <th>health</th>\n",
       "      <th>income</th>\n",
       "      <th>inflation</th>\n",
       "      <th>life_expec</th>\n",
       "      <th>total_fer</th>\n",
       "      <th>gdpp</th>\n",
       "      <th>trade_bal</th>\n",
       "      <th>cluster</th>\n",
       "    </tr>\n",
       "  </thead>\n",
       "  <tbody>\n",
       "    <tr>\n",
       "      <th>0</th>\n",
       "      <td>90.2</td>\n",
       "      <td>7.58</td>\n",
       "      <td>1610</td>\n",
       "      <td>9.44</td>\n",
       "      <td>56.2</td>\n",
       "      <td>5.82</td>\n",
       "      <td>553</td>\n",
       "      <td>-34.9</td>\n",
       "      <td>3</td>\n",
       "    </tr>\n",
       "    <tr>\n",
       "      <th>1</th>\n",
       "      <td>16.6</td>\n",
       "      <td>6.55</td>\n",
       "      <td>9930</td>\n",
       "      <td>4.49</td>\n",
       "      <td>76.3</td>\n",
       "      <td>1.65</td>\n",
       "      <td>4090</td>\n",
       "      <td>-20.6</td>\n",
       "      <td>4</td>\n",
       "    </tr>\n",
       "    <tr>\n",
       "      <th>2</th>\n",
       "      <td>27.3</td>\n",
       "      <td>4.17</td>\n",
       "      <td>12900</td>\n",
       "      <td>16.10</td>\n",
       "      <td>76.5</td>\n",
       "      <td>2.89</td>\n",
       "      <td>4460</td>\n",
       "      <td>7.0</td>\n",
       "      <td>4</td>\n",
       "    </tr>\n",
       "    <tr>\n",
       "      <th>3</th>\n",
       "      <td>119.0</td>\n",
       "      <td>2.85</td>\n",
       "      <td>5900</td>\n",
       "      <td>22.40</td>\n",
       "      <td>60.1</td>\n",
       "      <td>6.16</td>\n",
       "      <td>3530</td>\n",
       "      <td>19.4</td>\n",
       "      <td>3</td>\n",
       "    </tr>\n",
       "    <tr>\n",
       "      <th>4</th>\n",
       "      <td>10.3</td>\n",
       "      <td>6.03</td>\n",
       "      <td>19100</td>\n",
       "      <td>1.44</td>\n",
       "      <td>76.8</td>\n",
       "      <td>2.13</td>\n",
       "      <td>12200</td>\n",
       "      <td>-13.4</td>\n",
       "      <td>4</td>\n",
       "    </tr>\n",
       "  </tbody>\n",
       "</table>\n",
       "</div>"
      ],
      "text/plain": [
       "   child_mort  health  income  inflation  life_expec  total_fer   gdpp  \\\n",
       "0        90.2    7.58    1610       9.44        56.2       5.82    553   \n",
       "1        16.6    6.55    9930       4.49        76.3       1.65   4090   \n",
       "2        27.3    4.17   12900      16.10        76.5       2.89   4460   \n",
       "3       119.0    2.85    5900      22.40        60.1       6.16   3530   \n",
       "4        10.3    6.03   19100       1.44        76.8       2.13  12200   \n",
       "\n",
       "   trade_bal  cluster  \n",
       "0      -34.9        3  \n",
       "1      -20.6        4  \n",
       "2        7.0        4  \n",
       "3       19.4        3  \n",
       "4      -13.4        4  "
      ]
     },
     "execution_count": 57,
     "metadata": {},
     "output_type": "execute_result"
    }
   ],
   "source": [
    "df_kmeans_k6.head()"
   ]
  },
  {
   "cell_type": "code",
   "execution_count": 58,
   "metadata": {},
   "outputs": [
    {
     "data": {
      "text/plain": [
       "4    80\n",
       "3    40\n",
       "0    29\n",
       "1    10\n",
       "5     7\n",
       "2     1\n",
       "Name: cluster, dtype: int64"
      ]
     },
     "execution_count": 58,
     "metadata": {},
     "output_type": "execute_result"
    }
   ],
   "source": [
    "df_kmeans_k6.cluster.value_counts()"
   ]
  },
  {
   "cell_type": "code",
   "execution_count": 59,
   "metadata": {},
   "outputs": [],
   "source": [
    "avg = df_kmeans_k6.groupby(by='cluster').mean()"
   ]
  },
  {
   "cell_type": "code",
   "execution_count": 60,
   "metadata": {},
   "outputs": [
    {
     "data": {
      "text/html": [
       "<div>\n",
       "<style scoped>\n",
       "    .dataframe tbody tr th:only-of-type {\n",
       "        vertical-align: middle;\n",
       "    }\n",
       "\n",
       "    .dataframe tbody tr th {\n",
       "        vertical-align: top;\n",
       "    }\n",
       "\n",
       "    .dataframe thead th {\n",
       "        text-align: right;\n",
       "    }\n",
       "</style>\n",
       "<table border=\"1\" class=\"dataframe\">\n",
       "  <thead>\n",
       "    <tr style=\"text-align: right;\">\n",
       "      <th></th>\n",
       "      <th>child_mort</th>\n",
       "      <th>health</th>\n",
       "      <th>income</th>\n",
       "      <th>inflation</th>\n",
       "      <th>life_expec</th>\n",
       "      <th>total_fer</th>\n",
       "      <th>gdpp</th>\n",
       "      <th>trade_bal</th>\n",
       "    </tr>\n",
       "    <tr>\n",
       "      <th>cluster</th>\n",
       "      <th></th>\n",
       "      <th></th>\n",
       "      <th></th>\n",
       "      <th></th>\n",
       "      <th></th>\n",
       "      <th></th>\n",
       "      <th></th>\n",
       "      <th></th>\n",
       "    </tr>\n",
       "  </thead>\n",
       "  <tbody>\n",
       "    <tr>\n",
       "      <th>0</th>\n",
       "      <td>4.741379</td>\n",
       "      <td>9.925862</td>\n",
       "      <td>36603.448276</td>\n",
       "      <td>1.083724</td>\n",
       "      <td>80.210345</td>\n",
       "      <td>1.726897</td>\n",
       "      <td>38572.413793</td>\n",
       "      <td>1.210345</td>\n",
       "    </tr>\n",
       "    <tr>\n",
       "      <th>1</th>\n",
       "      <td>56.400000</td>\n",
       "      <td>10.180000</td>\n",
       "      <td>2304.400000</td>\n",
       "      <td>6.394000</td>\n",
       "      <td>62.660000</td>\n",
       "      <td>3.932000</td>\n",
       "      <td>1384.900000</td>\n",
       "      <td>-47.028000</td>\n",
       "    </tr>\n",
       "    <tr>\n",
       "      <th>2</th>\n",
       "      <td>130.000000</td>\n",
       "      <td>5.070000</td>\n",
       "      <td>5150.000000</td>\n",
       "      <td>104.000000</td>\n",
       "      <td>60.500000</td>\n",
       "      <td>5.840000</td>\n",
       "      <td>2330.000000</td>\n",
       "      <td>7.900000</td>\n",
       "    </tr>\n",
       "    <tr>\n",
       "      <th>3</th>\n",
       "      <td>94.835000</td>\n",
       "      <td>5.762000</td>\n",
       "      <td>4012.975000</td>\n",
       "      <td>10.456875</td>\n",
       "      <td>59.095000</td>\n",
       "      <td>5.051250</td>\n",
       "      <td>1993.525000</td>\n",
       "      <td>-9.557750</td>\n",
       "    </tr>\n",
       "    <tr>\n",
       "      <th>4</th>\n",
       "      <td>21.481250</td>\n",
       "      <td>6.010875</td>\n",
       "      <td>13105.625000</td>\n",
       "      <td>7.812738</td>\n",
       "      <td>73.118750</td>\n",
       "      <td>2.278750</td>\n",
       "      <td>6649.925000</td>\n",
       "      <td>-4.429711</td>\n",
       "    </tr>\n",
       "    <tr>\n",
       "      <th>5</th>\n",
       "      <td>6.814286</td>\n",
       "      <td>4.592857</td>\n",
       "      <td>80642.857143</td>\n",
       "      <td>8.129143</td>\n",
       "      <td>79.471429</td>\n",
       "      <td>1.817143</td>\n",
       "      <td>59785.714286</td>\n",
       "      <td>28.357143</td>\n",
       "    </tr>\n",
       "  </tbody>\n",
       "</table>\n",
       "</div>"
      ],
      "text/plain": [
       "         child_mort     health        income   inflation  life_expec  \\\n",
       "cluster                                                                \n",
       "0          4.741379   9.925862  36603.448276    1.083724   80.210345   \n",
       "1         56.400000  10.180000   2304.400000    6.394000   62.660000   \n",
       "2        130.000000   5.070000   5150.000000  104.000000   60.500000   \n",
       "3         94.835000   5.762000   4012.975000   10.456875   59.095000   \n",
       "4         21.481250   6.010875  13105.625000    7.812738   73.118750   \n",
       "5          6.814286   4.592857  80642.857143    8.129143   79.471429   \n",
       "\n",
       "         total_fer          gdpp  trade_bal  \n",
       "cluster                                      \n",
       "0         1.726897  38572.413793   1.210345  \n",
       "1         3.932000   1384.900000 -47.028000  \n",
       "2         5.840000   2330.000000   7.900000  \n",
       "3         5.051250   1993.525000  -9.557750  \n",
       "4         2.278750   6649.925000  -4.429711  \n",
       "5         1.817143  59785.714286  28.357143  "
      ]
     },
     "execution_count": 60,
     "metadata": {},
     "output_type": "execute_result"
    }
   ],
   "source": [
    "avg"
   ]
  },
  {
   "cell_type": "code",
   "execution_count": 61,
   "metadata": {},
   "outputs": [
    {
     "data": {
      "text/plain": [
       "<matplotlib.axes._subplots.AxesSubplot at 0x1656182de48>"
      ]
     },
     "execution_count": 61,
     "metadata": {},
     "output_type": "execute_result"
    },
    {
     "data": {
      "image/png": "[encoded data removed]",
      "text/plain": [
       "<Figure size 720x432 with 2 Axes>"
      ]
     },
     "metadata": {},
     "output_type": "display_data"
    }
   ],
   "source": [
    "# We will use standardised values for heat map\n",
    "sns.heatmap(avg.apply(lambda x: (x - x.min())/ (x.max()- x.min())), cmap=\"coolwarm\",annot=True)"
   ]
  },
  {
   "cell_type": "markdown",
   "metadata": {},
   "source": [
    "### KMeans with K=6 with a different random_state\n",
    "If we get completely different results then probably our clusters are not stable."
   ]
  },
  {
   "cell_type": "code",
   "execution_count": 62,
   "metadata": {},
   "outputs": [
    {
     "data": {
      "text/plain": [
       "KMeans(algorithm='auto', copy_x=True, init='k-means++', max_iter=100,\n",
       "    n_clusters=6, n_init=10, n_jobs=1, precompute_distances='auto',\n",
       "    random_state=42, tol=0.0001, verbose=0)"
      ]
     },
     "execution_count": 62,
     "metadata": {},
     "output_type": "execute_result"
    }
   ],
   "source": [
    "kmeans_model_k6_1 = KMeans(n_clusters=6, max_iter=100, random_state=42)\n",
    "kmeans_model_k6_1.fit(df_train_pca)"
   ]
  },
  {
   "cell_type": "code",
   "execution_count": 63,
   "metadata": {},
   "outputs": [],
   "source": [
    "df_kmeans_k6_1 = pd.concat([df, pd.DataFrame({'cluster':kmeans_model_k6_1.labels_})], axis=1)"
   ]
  },
  {
   "cell_type": "code",
   "execution_count": 64,
   "metadata": {},
   "outputs": [
    {
     "data": {
      "text/html": [
       "<div>\n",
       "<style scoped>\n",
       "    .dataframe tbody tr th:only-of-type {\n",
       "        vertical-align: middle;\n",
       "    }\n",
       "\n",
       "    .dataframe tbody tr th {\n",
       "        vertical-align: top;\n",
       "    }\n",
       "\n",
       "    .dataframe thead th {\n",
       "        text-align: right;\n",
       "    }\n",
       "</style>\n",
       "<table border=\"1\" class=\"dataframe\">\n",
       "  <thead>\n",
       "    <tr style=\"text-align: right;\">\n",
       "      <th></th>\n",
       "      <th>child_mort</th>\n",
       "      <th>health</th>\n",
       "      <th>income</th>\n",
       "      <th>inflation</th>\n",
       "      <th>life_expec</th>\n",
       "      <th>total_fer</th>\n",
       "      <th>gdpp</th>\n",
       "      <th>trade_bal</th>\n",
       "      <th>cluster</th>\n",
       "    </tr>\n",
       "  </thead>\n",
       "  <tbody>\n",
       "    <tr>\n",
       "      <th>0</th>\n",
       "      <td>90.2</td>\n",
       "      <td>7.58</td>\n",
       "      <td>1610</td>\n",
       "      <td>9.44</td>\n",
       "      <td>56.2</td>\n",
       "      <td>5.82</td>\n",
       "      <td>553</td>\n",
       "      <td>-34.9</td>\n",
       "      <td>2</td>\n",
       "    </tr>\n",
       "    <tr>\n",
       "      <th>1</th>\n",
       "      <td>16.6</td>\n",
       "      <td>6.55</td>\n",
       "      <td>9930</td>\n",
       "      <td>4.49</td>\n",
       "      <td>76.3</td>\n",
       "      <td>1.65</td>\n",
       "      <td>4090</td>\n",
       "      <td>-20.6</td>\n",
       "      <td>0</td>\n",
       "    </tr>\n",
       "    <tr>\n",
       "      <th>2</th>\n",
       "      <td>27.3</td>\n",
       "      <td>4.17</td>\n",
       "      <td>12900</td>\n",
       "      <td>16.10</td>\n",
       "      <td>76.5</td>\n",
       "      <td>2.89</td>\n",
       "      <td>4460</td>\n",
       "      <td>7.0</td>\n",
       "      <td>1</td>\n",
       "    </tr>\n",
       "    <tr>\n",
       "      <th>3</th>\n",
       "      <td>119.0</td>\n",
       "      <td>2.85</td>\n",
       "      <td>5900</td>\n",
       "      <td>22.40</td>\n",
       "      <td>60.1</td>\n",
       "      <td>6.16</td>\n",
       "      <td>3530</td>\n",
       "      <td>19.4</td>\n",
       "      <td>2</td>\n",
       "    </tr>\n",
       "    <tr>\n",
       "      <th>4</th>\n",
       "      <td>10.3</td>\n",
       "      <td>6.03</td>\n",
       "      <td>19100</td>\n",
       "      <td>1.44</td>\n",
       "      <td>76.8</td>\n",
       "      <td>2.13</td>\n",
       "      <td>12200</td>\n",
       "      <td>-13.4</td>\n",
       "      <td>0</td>\n",
       "    </tr>\n",
       "  </tbody>\n",
       "</table>\n",
       "</div>"
      ],
      "text/plain": [
       "   child_mort  health  income  inflation  life_expec  total_fer   gdpp  \\\n",
       "0        90.2    7.58    1610       9.44        56.2       5.82    553   \n",
       "1        16.6    6.55    9930       4.49        76.3       1.65   4090   \n",
       "2        27.3    4.17   12900      16.10        76.5       2.89   4460   \n",
       "3       119.0    2.85    5900      22.40        60.1       6.16   3530   \n",
       "4        10.3    6.03   19100       1.44        76.8       2.13  12200   \n",
       "\n",
       "   trade_bal  cluster  \n",
       "0      -34.9        2  \n",
       "1      -20.6        0  \n",
       "2        7.0        1  \n",
       "3       19.4        2  \n",
       "4      -13.4        0  "
      ]
     },
     "execution_count": 64,
     "metadata": {},
     "output_type": "execute_result"
    }
   ],
   "source": [
    "df_kmeans_k6_1.head()"
   ]
  },
  {
   "cell_type": "code",
   "execution_count": 65,
   "metadata": {},
   "outputs": [
    {
     "data": {
      "text/plain": [
       "0    61\n",
       "2    42\n",
       "1    29\n",
       "3    27\n",
       "5     7\n",
       "4     1\n",
       "Name: cluster, dtype: int64"
      ]
     },
     "execution_count": 65,
     "metadata": {},
     "output_type": "execute_result"
    }
   ],
   "source": [
    "df_kmeans_k6_1.cluster.value_counts()"
   ]
  },
  {
   "cell_type": "markdown",
   "metadata": {},
   "source": [
    "The clusters did change and they are getting affected by random initial values"
   ]
  },
  {
   "cell_type": "code",
   "execution_count": 66,
   "metadata": {},
   "outputs": [],
   "source": [
    "avg = df_kmeans_k6_1.groupby(by='cluster').mean()"
   ]
  },
  {
   "cell_type": "code",
   "execution_count": 67,
   "metadata": {},
   "outputs": [
    {
     "data": {
      "text/html": [
       "<div>\n",
       "<style scoped>\n",
       "    .dataframe tbody tr th:only-of-type {\n",
       "        vertical-align: middle;\n",
       "    }\n",
       "\n",
       "    .dataframe tbody tr th {\n",
       "        vertical-align: top;\n",
       "    }\n",
       "\n",
       "    .dataframe thead th {\n",
       "        text-align: right;\n",
       "    }\n",
       "</style>\n",
       "<table border=\"1\" class=\"dataframe\">\n",
       "  <thead>\n",
       "    <tr style=\"text-align: right;\">\n",
       "      <th></th>\n",
       "      <th>child_mort</th>\n",
       "      <th>health</th>\n",
       "      <th>income</th>\n",
       "      <th>inflation</th>\n",
       "      <th>life_expec</th>\n",
       "      <th>total_fer</th>\n",
       "      <th>gdpp</th>\n",
       "      <th>trade_bal</th>\n",
       "    </tr>\n",
       "    <tr>\n",
       "      <th>cluster</th>\n",
       "      <th></th>\n",
       "      <th></th>\n",
       "      <th></th>\n",
       "      <th></th>\n",
       "      <th></th>\n",
       "      <th></th>\n",
       "      <th></th>\n",
       "      <th></th>\n",
       "    </tr>\n",
       "  </thead>\n",
       "  <tbody>\n",
       "    <tr>\n",
       "      <th>0</th>\n",
       "      <td>18.800000</td>\n",
       "      <td>6.865574</td>\n",
       "      <td>11581.475410</td>\n",
       "      <td>4.623131</td>\n",
       "      <td>73.565574</td>\n",
       "      <td>2.182295</td>\n",
       "      <td>6680.426230</td>\n",
       "      <td>-12.500328</td>\n",
       "    </tr>\n",
       "    <tr>\n",
       "      <th>1</th>\n",
       "      <td>34.979310</td>\n",
       "      <td>4.528276</td>\n",
       "      <td>15972.068966</td>\n",
       "      <td>15.861379</td>\n",
       "      <td>70.262069</td>\n",
       "      <td>2.880345</td>\n",
       "      <td>7164.344828</td>\n",
       "      <td>10.387693</td>\n",
       "    </tr>\n",
       "    <tr>\n",
       "      <th>2</th>\n",
       "      <td>93.702381</td>\n",
       "      <td>6.659762</td>\n",
       "      <td>2629.833333</td>\n",
       "      <td>8.698452</td>\n",
       "      <td>58.669048</td>\n",
       "      <td>5.007381</td>\n",
       "      <td>1307.428571</td>\n",
       "      <td>-17.997381</td>\n",
       "    </tr>\n",
       "    <tr>\n",
       "      <th>3</th>\n",
       "      <td>4.322222</td>\n",
       "      <td>10.043333</td>\n",
       "      <td>37533.333333</td>\n",
       "      <td>1.160593</td>\n",
       "      <td>80.622222</td>\n",
       "      <td>1.732963</td>\n",
       "      <td>39777.777778</td>\n",
       "      <td>1.677778</td>\n",
       "    </tr>\n",
       "    <tr>\n",
       "      <th>4</th>\n",
       "      <td>130.000000</td>\n",
       "      <td>5.070000</td>\n",
       "      <td>5150.000000</td>\n",
       "      <td>104.000000</td>\n",
       "      <td>60.500000</td>\n",
       "      <td>5.840000</td>\n",
       "      <td>2330.000000</td>\n",
       "      <td>7.900000</td>\n",
       "    </tr>\n",
       "    <tr>\n",
       "      <th>5</th>\n",
       "      <td>6.814286</td>\n",
       "      <td>4.592857</td>\n",
       "      <td>80642.857143</td>\n",
       "      <td>8.129143</td>\n",
       "      <td>79.471429</td>\n",
       "      <td>1.817143</td>\n",
       "      <td>59785.714286</td>\n",
       "      <td>28.357143</td>\n",
       "    </tr>\n",
       "  </tbody>\n",
       "</table>\n",
       "</div>"
      ],
      "text/plain": [
       "         child_mort     health        income   inflation  life_expec  \\\n",
       "cluster                                                                \n",
       "0         18.800000   6.865574  11581.475410    4.623131   73.565574   \n",
       "1         34.979310   4.528276  15972.068966   15.861379   70.262069   \n",
       "2         93.702381   6.659762   2629.833333    8.698452   58.669048   \n",
       "3          4.322222  10.043333  37533.333333    1.160593   80.622222   \n",
       "4        130.000000   5.070000   5150.000000  104.000000   60.500000   \n",
       "5          6.814286   4.592857  80642.857143    8.129143   79.471429   \n",
       "\n",
       "         total_fer          gdpp  trade_bal  \n",
       "cluster                                      \n",
       "0         2.182295   6680.426230 -12.500328  \n",
       "1         2.880345   7164.344828  10.387693  \n",
       "2         5.007381   1307.428571 -17.997381  \n",
       "3         1.732963  39777.777778   1.677778  \n",
       "4         5.840000   2330.000000   7.900000  \n",
       "5         1.817143  59785.714286  28.357143  "
      ]
     },
     "execution_count": 67,
     "metadata": {},
     "output_type": "execute_result"
    }
   ],
   "source": [
    "avg"
   ]
  },
  {
   "cell_type": "markdown",
   "metadata": {},
   "source": [
    "### KMeans with K=5"
   ]
  },
  {
   "cell_type": "code",
   "execution_count": 68,
   "metadata": {},
   "outputs": [
    {
     "data": {
      "text/plain": [
       "KMeans(algorithm='auto', copy_x=True, init='k-means++', max_iter=100,\n",
       "    n_clusters=5, n_init=10, n_jobs=1, precompute_distances='auto',\n",
       "    random_state=100, tol=0.0001, verbose=0)"
      ]
     },
     "execution_count": 68,
     "metadata": {},
     "output_type": "execute_result"
    }
   ],
   "source": [
    "kmeans_model_k5 = KMeans(n_clusters=5, max_iter=100, random_state=100)\n",
    "kmeans_model_k5.fit(df_train_pca)"
   ]
  },
  {
   "cell_type": "code",
   "execution_count": 69,
   "metadata": {},
   "outputs": [],
   "source": [
    "df_kmeans_k5 = pd.concat([df, pd.DataFrame({'cluster':kmeans_model_k5.labels_})], axis=1)"
   ]
  },
  {
   "cell_type": "code",
   "execution_count": 70,
   "metadata": {},
   "outputs": [
    {
     "data": {
      "text/html": [
       "<div>\n",
       "<style scoped>\n",
       "    .dataframe tbody tr th:only-of-type {\n",
       "        vertical-align: middle;\n",
       "    }\n",
       "\n",
       "    .dataframe tbody tr th {\n",
       "        vertical-align: top;\n",
       "    }\n",
       "\n",
       "    .dataframe thead th {\n",
       "        text-align: right;\n",
       "    }\n",
       "</style>\n",
       "<table border=\"1\" class=\"dataframe\">\n",
       "  <thead>\n",
       "    <tr style=\"text-align: right;\">\n",
       "      <th></th>\n",
       "      <th>child_mort</th>\n",
       "      <th>health</th>\n",
       "      <th>income</th>\n",
       "      <th>inflation</th>\n",
       "      <th>life_expec</th>\n",
       "      <th>total_fer</th>\n",
       "      <th>gdpp</th>\n",
       "      <th>trade_bal</th>\n",
       "      <th>cluster</th>\n",
       "    </tr>\n",
       "  </thead>\n",
       "  <tbody>\n",
       "    <tr>\n",
       "      <th>0</th>\n",
       "      <td>90.2</td>\n",
       "      <td>7.58</td>\n",
       "      <td>1610</td>\n",
       "      <td>9.44</td>\n",
       "      <td>56.2</td>\n",
       "      <td>5.82</td>\n",
       "      <td>553</td>\n",
       "      <td>-34.9</td>\n",
       "      <td>2</td>\n",
       "    </tr>\n",
       "    <tr>\n",
       "      <th>1</th>\n",
       "      <td>16.6</td>\n",
       "      <td>6.55</td>\n",
       "      <td>9930</td>\n",
       "      <td>4.49</td>\n",
       "      <td>76.3</td>\n",
       "      <td>1.65</td>\n",
       "      <td>4090</td>\n",
       "      <td>-20.6</td>\n",
       "      <td>3</td>\n",
       "    </tr>\n",
       "    <tr>\n",
       "      <th>2</th>\n",
       "      <td>27.3</td>\n",
       "      <td>4.17</td>\n",
       "      <td>12900</td>\n",
       "      <td>16.10</td>\n",
       "      <td>76.5</td>\n",
       "      <td>2.89</td>\n",
       "      <td>4460</td>\n",
       "      <td>7.0</td>\n",
       "      <td>1</td>\n",
       "    </tr>\n",
       "    <tr>\n",
       "      <th>3</th>\n",
       "      <td>119.0</td>\n",
       "      <td>2.85</td>\n",
       "      <td>5900</td>\n",
       "      <td>22.40</td>\n",
       "      <td>60.1</td>\n",
       "      <td>6.16</td>\n",
       "      <td>3530</td>\n",
       "      <td>19.4</td>\n",
       "      <td>2</td>\n",
       "    </tr>\n",
       "    <tr>\n",
       "      <th>4</th>\n",
       "      <td>10.3</td>\n",
       "      <td>6.03</td>\n",
       "      <td>19100</td>\n",
       "      <td>1.44</td>\n",
       "      <td>76.8</td>\n",
       "      <td>2.13</td>\n",
       "      <td>12200</td>\n",
       "      <td>-13.4</td>\n",
       "      <td>3</td>\n",
       "    </tr>\n",
       "  </tbody>\n",
       "</table>\n",
       "</div>"
      ],
      "text/plain": [
       "   child_mort  health  income  inflation  life_expec  total_fer   gdpp  \\\n",
       "0        90.2    7.58    1610       9.44        56.2       5.82    553   \n",
       "1        16.6    6.55    9930       4.49        76.3       1.65   4090   \n",
       "2        27.3    4.17   12900      16.10        76.5       2.89   4460   \n",
       "3       119.0    2.85    5900      22.40        60.1       6.16   3530   \n",
       "4        10.3    6.03   19100       1.44        76.8       2.13  12200   \n",
       "\n",
       "   trade_bal  cluster  \n",
       "0      -34.9        2  \n",
       "1      -20.6        3  \n",
       "2        7.0        1  \n",
       "3       19.4        2  \n",
       "4      -13.4        3  "
      ]
     },
     "execution_count": 70,
     "metadata": {},
     "output_type": "execute_result"
    }
   ],
   "source": [
    "df_kmeans_k5.head()"
   ]
  },
  {
   "cell_type": "code",
   "execution_count": 71,
   "metadata": {},
   "outputs": [
    {
     "data": {
      "text/plain": [
       "3    56\n",
       "1    48\n",
       "2    36\n",
       "0    26\n",
       "4     1\n",
       "Name: cluster, dtype: int64"
      ]
     },
     "execution_count": 71,
     "metadata": {},
     "output_type": "execute_result"
    }
   ],
   "source": [
    "df_kmeans_k5.cluster.value_counts()"
   ]
  },
  {
   "cell_type": "code",
   "execution_count": 72,
   "metadata": {},
   "outputs": [],
   "source": [
    "avg = df_kmeans_k5.groupby(by='cluster').mean()"
   ]
  },
  {
   "cell_type": "code",
   "execution_count": 73,
   "metadata": {},
   "outputs": [
    {
     "data": {
      "text/html": [
       "<div>\n",
       "<style scoped>\n",
       "    .dataframe tbody tr th:only-of-type {\n",
       "        vertical-align: middle;\n",
       "    }\n",
       "\n",
       "    .dataframe tbody tr th {\n",
       "        vertical-align: top;\n",
       "    }\n",
       "\n",
       "    .dataframe thead th {\n",
       "        text-align: right;\n",
       "    }\n",
       "</style>\n",
       "<table border=\"1\" class=\"dataframe\">\n",
       "  <thead>\n",
       "    <tr style=\"text-align: right;\">\n",
       "      <th></th>\n",
       "      <th>child_mort</th>\n",
       "      <th>health</th>\n",
       "      <th>income</th>\n",
       "      <th>inflation</th>\n",
       "      <th>life_expec</th>\n",
       "      <th>total_fer</th>\n",
       "      <th>gdpp</th>\n",
       "      <th>trade_bal</th>\n",
       "    </tr>\n",
       "    <tr>\n",
       "      <th>cluster</th>\n",
       "      <th></th>\n",
       "      <th></th>\n",
       "      <th></th>\n",
       "      <th></th>\n",
       "      <th></th>\n",
       "      <th></th>\n",
       "      <th></th>\n",
       "      <th></th>\n",
       "    </tr>\n",
       "  </thead>\n",
       "  <tbody>\n",
       "    <tr>\n",
       "      <th>0</th>\n",
       "      <td>5.034615</td>\n",
       "      <td>9.059615</td>\n",
       "      <td>51646.153846</td>\n",
       "      <td>3.021962</td>\n",
       "      <td>80.546154</td>\n",
       "      <td>1.789231</td>\n",
       "      <td>49819.230769</td>\n",
       "      <td>9.938462</td>\n",
       "    </tr>\n",
       "    <tr>\n",
       "      <th>1</th>\n",
       "      <td>39.991667</td>\n",
       "      <td>5.051667</td>\n",
       "      <td>7272.083333</td>\n",
       "      <td>10.706896</td>\n",
       "      <td>68.431250</td>\n",
       "      <td>3.066875</td>\n",
       "      <td>3359.187500</td>\n",
       "      <td>-6.822644</td>\n",
       "    </tr>\n",
       "    <tr>\n",
       "      <th>2</th>\n",
       "      <td>98.866667</td>\n",
       "      <td>7.054722</td>\n",
       "      <td>2727.861111</td>\n",
       "      <td>8.939306</td>\n",
       "      <td>58.347222</td>\n",
       "      <td>5.251389</td>\n",
       "      <td>1415.083333</td>\n",
       "      <td>-19.955000</td>\n",
       "    </tr>\n",
       "    <tr>\n",
       "      <th>3</th>\n",
       "      <td>11.632143</td>\n",
       "      <td>7.163393</td>\n",
       "      <td>19070.535714</td>\n",
       "      <td>5.022304</td>\n",
       "      <td>75.766071</td>\n",
       "      <td>1.851607</td>\n",
       "      <td>11700.000000</td>\n",
       "      <td>-3.319643</td>\n",
       "    </tr>\n",
       "    <tr>\n",
       "      <th>4</th>\n",
       "      <td>130.000000</td>\n",
       "      <td>5.070000</td>\n",
       "      <td>5150.000000</td>\n",
       "      <td>104.000000</td>\n",
       "      <td>60.500000</td>\n",
       "      <td>5.840000</td>\n",
       "      <td>2330.000000</td>\n",
       "      <td>7.900000</td>\n",
       "    </tr>\n",
       "  </tbody>\n",
       "</table>\n",
       "</div>"
      ],
      "text/plain": [
       "         child_mort    health        income   inflation  life_expec  \\\n",
       "cluster                                                               \n",
       "0          5.034615  9.059615  51646.153846    3.021962   80.546154   \n",
       "1         39.991667  5.051667   7272.083333   10.706896   68.431250   \n",
       "2         98.866667  7.054722   2727.861111    8.939306   58.347222   \n",
       "3         11.632143  7.163393  19070.535714    5.022304   75.766071   \n",
       "4        130.000000  5.070000   5150.000000  104.000000   60.500000   \n",
       "\n",
       "         total_fer          gdpp  trade_bal  \n",
       "cluster                                      \n",
       "0         1.789231  49819.230769   9.938462  \n",
       "1         3.066875   3359.187500  -6.822644  \n",
       "2         5.251389   1415.083333 -19.955000  \n",
       "3         1.851607  11700.000000  -3.319643  \n",
       "4         5.840000   2330.000000   7.900000  "
      ]
     },
     "execution_count": 73,
     "metadata": {},
     "output_type": "execute_result"
    }
   ],
   "source": [
    "avg"
   ]
  },
  {
   "cell_type": "markdown",
   "metadata": {},
   "source": [
    "### KMeans with K=5 with a different random_state"
   ]
  },
  {
   "cell_type": "code",
   "execution_count": 74,
   "metadata": {},
   "outputs": [
    {
     "data": {
      "text/plain": [
       "KMeans(algorithm='auto', copy_x=True, init='k-means++', max_iter=100,\n",
       "    n_clusters=5, n_init=10, n_jobs=1, precompute_distances='auto',\n",
       "    random_state=42, tol=0.0001, verbose=0)"
      ]
     },
     "execution_count": 74,
     "metadata": {},
     "output_type": "execute_result"
    }
   ],
   "source": [
    "kmeans_model_k5_1 = KMeans(n_clusters=5, max_iter=100, random_state=42)\n",
    "kmeans_model_k5_1.fit(df_train_pca)"
   ]
  },
  {
   "cell_type": "code",
   "execution_count": 75,
   "metadata": {},
   "outputs": [],
   "source": [
    "df_kmeans_k5_1 = pd.concat([names,df, pd.DataFrame({'cluster':kmeans_model_k5_1.labels_})], axis=1)"
   ]
  },
  {
   "cell_type": "code",
   "execution_count": 76,
   "metadata": {},
   "outputs": [
    {
     "data": {
      "text/html": [
       "<div>\n",
       "<style scoped>\n",
       "    .dataframe tbody tr th:only-of-type {\n",
       "        vertical-align: middle;\n",
       "    }\n",
       "\n",
       "    .dataframe tbody tr th {\n",
       "        vertical-align: top;\n",
       "    }\n",
       "\n",
       "    .dataframe thead th {\n",
       "        text-align: right;\n",
       "    }\n",
       "</style>\n",
       "<table border=\"1\" class=\"dataframe\">\n",
       "  <thead>\n",
       "    <tr style=\"text-align: right;\">\n",
       "      <th></th>\n",
       "      <th>country</th>\n",
       "      <th>child_mort</th>\n",
       "      <th>health</th>\n",
       "      <th>income</th>\n",
       "      <th>inflation</th>\n",
       "      <th>life_expec</th>\n",
       "      <th>total_fer</th>\n",
       "      <th>gdpp</th>\n",
       "      <th>trade_bal</th>\n",
       "      <th>cluster</th>\n",
       "    </tr>\n",
       "  </thead>\n",
       "  <tbody>\n",
       "    <tr>\n",
       "      <th>0</th>\n",
       "      <td>Afghanistan</td>\n",
       "      <td>90.2</td>\n",
       "      <td>7.58</td>\n",
       "      <td>1610</td>\n",
       "      <td>9.44</td>\n",
       "      <td>56.2</td>\n",
       "      <td>5.82</td>\n",
       "      <td>553</td>\n",
       "      <td>-34.9</td>\n",
       "      <td>4</td>\n",
       "    </tr>\n",
       "    <tr>\n",
       "      <th>1</th>\n",
       "      <td>Albania</td>\n",
       "      <td>16.6</td>\n",
       "      <td>6.55</td>\n",
       "      <td>9930</td>\n",
       "      <td>4.49</td>\n",
       "      <td>76.3</td>\n",
       "      <td>1.65</td>\n",
       "      <td>4090</td>\n",
       "      <td>-20.6</td>\n",
       "      <td>2</td>\n",
       "    </tr>\n",
       "    <tr>\n",
       "      <th>2</th>\n",
       "      <td>Algeria</td>\n",
       "      <td>27.3</td>\n",
       "      <td>4.17</td>\n",
       "      <td>12900</td>\n",
       "      <td>16.10</td>\n",
       "      <td>76.5</td>\n",
       "      <td>2.89</td>\n",
       "      <td>4460</td>\n",
       "      <td>7.0</td>\n",
       "      <td>2</td>\n",
       "    </tr>\n",
       "    <tr>\n",
       "      <th>3</th>\n",
       "      <td>Angola</td>\n",
       "      <td>119.0</td>\n",
       "      <td>2.85</td>\n",
       "      <td>5900</td>\n",
       "      <td>22.40</td>\n",
       "      <td>60.1</td>\n",
       "      <td>6.16</td>\n",
       "      <td>3530</td>\n",
       "      <td>19.4</td>\n",
       "      <td>1</td>\n",
       "    </tr>\n",
       "    <tr>\n",
       "      <th>4</th>\n",
       "      <td>Antigua and Barbuda</td>\n",
       "      <td>10.3</td>\n",
       "      <td>6.03</td>\n",
       "      <td>19100</td>\n",
       "      <td>1.44</td>\n",
       "      <td>76.8</td>\n",
       "      <td>2.13</td>\n",
       "      <td>12200</td>\n",
       "      <td>-13.4</td>\n",
       "      <td>2</td>\n",
       "    </tr>\n",
       "  </tbody>\n",
       "</table>\n",
       "</div>"
      ],
      "text/plain": [
       "               country  child_mort  health  income  inflation  life_expec  \\\n",
       "0          Afghanistan        90.2    7.58    1610       9.44        56.2   \n",
       "1              Albania        16.6    6.55    9930       4.49        76.3   \n",
       "2              Algeria        27.3    4.17   12900      16.10        76.5   \n",
       "3               Angola       119.0    2.85    5900      22.40        60.1   \n",
       "4  Antigua and Barbuda        10.3    6.03   19100       1.44        76.8   \n",
       "\n",
       "   total_fer   gdpp  trade_bal  cluster  \n",
       "0       5.82    553      -34.9        4  \n",
       "1       1.65   4090      -20.6        2  \n",
       "2       2.89   4460        7.0        2  \n",
       "3       6.16   3530       19.4        1  \n",
       "4       2.13  12200      -13.4        2  "
      ]
     },
     "execution_count": 76,
     "metadata": {},
     "output_type": "execute_result"
    }
   ],
   "source": [
    "df_kmeans_k5_1.head()"
   ]
  },
  {
   "cell_type": "code",
   "execution_count": 77,
   "metadata": {},
   "outputs": [
    {
     "data": {
      "text/plain": [
       "2    80\n",
       "4    42\n",
       "3    29\n",
       "1     9\n",
       "0     7\n",
       "Name: cluster, dtype: int64"
      ]
     },
     "execution_count": 77,
     "metadata": {},
     "output_type": "execute_result"
    }
   ],
   "source": [
    "df_kmeans_k5_1.cluster.value_counts()"
   ]
  },
  {
   "cell_type": "code",
   "execution_count": 78,
   "metadata": {},
   "outputs": [],
   "source": [
    "avg = df_kmeans_k5_1.groupby(by='cluster').mean()"
   ]
  },
  {
   "cell_type": "code",
   "execution_count": 79,
   "metadata": {},
   "outputs": [
    {
     "data": {
      "text/html": [
       "<div>\n",
       "<style scoped>\n",
       "    .dataframe tbody tr th:only-of-type {\n",
       "        vertical-align: middle;\n",
       "    }\n",
       "\n",
       "    .dataframe tbody tr th {\n",
       "        vertical-align: top;\n",
       "    }\n",
       "\n",
       "    .dataframe thead th {\n",
       "        text-align: right;\n",
       "    }\n",
       "</style>\n",
       "<table border=\"1\" class=\"dataframe\">\n",
       "  <thead>\n",
       "    <tr style=\"text-align: right;\">\n",
       "      <th></th>\n",
       "      <th>child_mort</th>\n",
       "      <th>health</th>\n",
       "      <th>income</th>\n",
       "      <th>inflation</th>\n",
       "      <th>life_expec</th>\n",
       "      <th>total_fer</th>\n",
       "      <th>gdpp</th>\n",
       "      <th>trade_bal</th>\n",
       "    </tr>\n",
       "    <tr>\n",
       "      <th>cluster</th>\n",
       "      <th></th>\n",
       "      <th></th>\n",
       "      <th></th>\n",
       "      <th></th>\n",
       "      <th></th>\n",
       "      <th></th>\n",
       "      <th></th>\n",
       "      <th></th>\n",
       "    </tr>\n",
       "  </thead>\n",
       "  <tbody>\n",
       "    <tr>\n",
       "      <th>0</th>\n",
       "      <td>6.814286</td>\n",
       "      <td>4.592857</td>\n",
       "      <td>80642.857143</td>\n",
       "      <td>8.129143</td>\n",
       "      <td>79.471429</td>\n",
       "      <td>1.817143</td>\n",
       "      <td>59785.714286</td>\n",
       "      <td>28.357143</td>\n",
       "    </tr>\n",
       "    <tr>\n",
       "      <th>1</th>\n",
       "      <td>73.755556</td>\n",
       "      <td>4.467778</td>\n",
       "      <td>10822.222222</td>\n",
       "      <td>35.211111</td>\n",
       "      <td>64.466667</td>\n",
       "      <td>4.544444</td>\n",
       "      <td>5932.222222</td>\n",
       "      <td>13.600000</td>\n",
       "    </tr>\n",
       "    <tr>\n",
       "      <th>2</th>\n",
       "      <td>21.373750</td>\n",
       "      <td>6.091125</td>\n",
       "      <td>12914.125000</td>\n",
       "      <td>6.933738</td>\n",
       "      <td>73.093750</td>\n",
       "      <td>2.279625</td>\n",
       "      <td>6512.800000</td>\n",
       "      <td>-5.530961</td>\n",
       "    </tr>\n",
       "    <tr>\n",
       "      <th>3</th>\n",
       "      <td>4.741379</td>\n",
       "      <td>9.925862</td>\n",
       "      <td>36603.448276</td>\n",
       "      <td>1.083724</td>\n",
       "      <td>80.210345</td>\n",
       "      <td>1.726897</td>\n",
       "      <td>38572.413793</td>\n",
       "      <td>1.210345</td>\n",
       "    </tr>\n",
       "    <tr>\n",
       "      <th>4</th>\n",
       "      <td>91.242857</td>\n",
       "      <td>6.921905</td>\n",
       "      <td>2538.880952</td>\n",
       "      <td>8.086548</td>\n",
       "      <td>58.873810</td>\n",
       "      <td>4.910476</td>\n",
       "      <td>1273.809524</td>\n",
       "      <td>-20.928333</td>\n",
       "    </tr>\n",
       "  </tbody>\n",
       "</table>\n",
       "</div>"
      ],
      "text/plain": [
       "         child_mort    health        income  inflation  life_expec  total_fer  \\\n",
       "cluster                                                                         \n",
       "0          6.814286  4.592857  80642.857143   8.129143   79.471429   1.817143   \n",
       "1         73.755556  4.467778  10822.222222  35.211111   64.466667   4.544444   \n",
       "2         21.373750  6.091125  12914.125000   6.933738   73.093750   2.279625   \n",
       "3          4.741379  9.925862  36603.448276   1.083724   80.210345   1.726897   \n",
       "4         91.242857  6.921905   2538.880952   8.086548   58.873810   4.910476   \n",
       "\n",
       "                 gdpp  trade_bal  \n",
       "cluster                           \n",
       "0        59785.714286  28.357143  \n",
       "1         5932.222222  13.600000  \n",
       "2         6512.800000  -5.530961  \n",
       "3        38572.413793   1.210345  \n",
       "4         1273.809524 -20.928333  "
      ]
     },
     "execution_count": 79,
     "metadata": {},
     "output_type": "execute_result"
    }
   ],
   "source": [
    "avg"
   ]
  },
  {
   "cell_type": "code",
   "execution_count": 80,
   "metadata": {},
   "outputs": [
    {
     "data": {
      "text/plain": [
       "<matplotlib.legend.Legend at 0x165617656d8>"
      ]
     },
     "execution_count": 80,
     "metadata": {},
     "output_type": "execute_result"
    },
    {
     "data": {
      "image/png": "[encoded data removed]",
      "text/plain": [
       "<Figure size 1080x648 with 1 Axes>"
      ]
     },
     "metadata": {},
     "output_type": "display_data"
    }
   ],
   "source": [
    "# Comparing cluster on the basis of economic parameters\n",
    "plt.figure(figsize=(15,9))\n",
    "sns.set_style('dark')\n",
    "plt.bar(r1, avg['inflation'] , color='#35477d', width=w,edgecolor='white', label='Inflation')\n",
    "plt.bar(r2, avg['gdpp']/1000 , color='#6c5b7b', width=w, edgecolor='white', label='GDPP')\n",
    "plt.bar(r3, avg['trade_bal'] , color='#c06c84', width=w,edgecolor='white', label='Trade Balance')\n",
    "plt.bar(r4, avg['income']/1000 , color='#f67280', width=w, edgecolor='white', label='Income')\n",
    "\n",
    "plt.xlabel('Clusters')\n",
    "plt.xticks(np.arange(1,6), ['Cluster '+ str(x) for x in range(5)])\n",
    "plt.yticks([]) # Removing yticks since all our parameters have different scale.\n",
    "\n",
    "plt.legend()"
   ]
  },
  {
   "cell_type": "code",
   "execution_count": 87,
   "metadata": {},
   "outputs": [
    {
     "data": {
      "text/plain": [
       "<matplotlib.legend.Legend at 0x1655f3095f8>"
      ]
     },
     "execution_count": 87,
     "metadata": {},
     "output_type": "execute_result"
    },
    {
     "data": {
      "image/png": "[encoded data removed]",
      "text/plain": [
       "<Figure size 1080x648 with 1 Axes>"
      ]
     },
     "metadata": {},
     "output_type": "display_data"
    }
   ],
   "source": [
    "# Comparing cluster on the basis of health parameters\n",
    "plt.figure(figsize=(15,9))\n",
    "sns.set_style('dark')\n",
    "plt.bar(r1, avg['child_mort'] , color='#35477d', width=w,edgecolor='white', label='Child Mortality')\n",
    "plt.bar(r2, avg['health']*10, color='#6c5b7b', width=w, edgecolor='white', label='Health Expenditure')\n",
    "plt.bar(r3, avg['total_fer']*10 , color='#c06c84', width=w,edgecolor='white', label='Total Fertility')\n",
    "plt.bar(r4, avg['life_expec'] , color='#f67280', width=w, edgecolor='white', label='Life Expectancy')\n",
    "plt.xlabel('Clusters')\n",
    "plt.xticks(np.arange(1,6), ['Cluster '+ str(x) for x in range(5)])\n",
    "plt.yticks([]) # Removing yticks since all our parameters have different scale.\n",
    "\n",
    "\n",
    "for i,v in enumerate(avg['child_mort']):\n",
    "    plt.text(r1[i], v + 2, '%.1f' % v, color='#35477d', fontweight='bold', horizontalalignment='center')\n",
    "for i,v in enumerate(avg['health']):\n",
    "    plt.text(r2[i], v*10 + 2, '%.1f' % v, color='#6c5b7b', fontweight='bold', horizontalalignment='center')\n",
    "for i,v in enumerate(avg['total_fer']):\n",
    "    plt.text(r3[i], v*10 + 2, '%.1f' % v, color='#c06c84', fontweight='bold', horizontalalignment='center')\n",
    "for i,v in enumerate(avg['life_expec']):    \n",
    "    plt.text(r4[i], v + 2, '%.1f' % v, color='#f67280', fontweight='bold', horizontalalignment='center')\n",
    "plt.legend()"
   ]
  },
  {
   "cell_type": "markdown",
   "metadata": {},
   "source": [
    "#### Cluster 0\n",
    "High Per capita income, low inflation, highest gdpp and highest trade balance. - Economically Very Well\n",
    "Second highest life expectancy, Health expenditure is fine, low child mortality, total fertility is low - Good Health wise"
   ]
  },
  {
   "cell_type": "code",
   "execution_count": 88,
   "metadata": {},
   "outputs": [
    {
     "name": "stdout",
     "output_type": "stream",
     "text": [
      "23                   Brunei\n",
      "82                   Kuwait\n",
      "91               Luxembourg\n",
      "114                  Norway\n",
      "123                   Qatar\n",
      "133               Singapore\n",
      "157    United Arab Emirates\n",
      "Name: country, dtype: object\n"
     ]
    }
   ],
   "source": [
    "print(df_kmeans_k5_1.loc[ df_kmeans_k5_1['cluster']==0, 'country'])"
   ]
  },
  {
   "cell_type": "markdown",
   "metadata": {},
   "source": [
    "#### Cluster 1\n",
    "Cluster 1 has high inflation and other factors are moderate - Economically not so well\n",
    "Second highest child mortality and second lowest life expectency, other factors are also moderate - Health wise needs attention."
   ]
  },
  {
   "cell_type": "code",
   "execution_count": 83,
   "metadata": {},
   "outputs": [
    {
     "data": {
      "text/plain": [
       "3                 Angola\n",
       "38           Congo, Rep.\n",
       "49     Equatorial Guinea\n",
       "55                 Gabon\n",
       "103             Mongolia\n",
       "113              Nigeria\n",
       "142                Sudan\n",
       "163            Venezuela\n",
       "165                Yemen\n",
       "Name: country, dtype: object"
      ]
     },
     "execution_count": 83,
     "metadata": {},
     "output_type": "execute_result"
    }
   ],
   "source": [
    "df_kmeans_k5_1.loc[ df_kmeans_k5_1['cluster']==1, 'country']"
   ]
  },
  {
   "cell_type": "markdown",
   "metadata": {},
   "source": [
    "#### Cluster 2\n",
    "Second worst scenario economically as cluster 4 needs more help.\n",
    "Helath wise also it is second worse scenario."
   ]
  },
  {
   "cell_type": "code",
   "execution_count": 84,
   "metadata": {},
   "outputs": [
    {
     "data": {
      "text/plain": [
       "1                             Albania\n",
       "2                             Algeria\n",
       "4                 Antigua and Barbuda\n",
       "5                           Argentina\n",
       "6                             Armenia\n",
       "9                          Azerbaijan\n",
       "11                            Bahrain\n",
       "12                         Bangladesh\n",
       "13                           Barbados\n",
       "14                            Belarus\n",
       "16                             Belize\n",
       "18                             Bhutan\n",
       "19                            Bolivia\n",
       "20             Bosnia and Herzegovina\n",
       "22                             Brazil\n",
       "24                           Bulgaria\n",
       "27                           Cambodia\n",
       "30                         Cape Verde\n",
       "33                              Chile\n",
       "34                              China\n",
       "35                           Colombia\n",
       "39                         Costa Rica\n",
       "41                            Croatia\n",
       "45                 Dominican Republic\n",
       "46                            Ecuador\n",
       "47                              Egypt\n",
       "48                        El Salvador\n",
       "51                            Estonia\n",
       "52                               Fiji\n",
       "57                            Georgia\n",
       "                    ...              \n",
       "102                           Moldova\n",
       "104                        Montenegro\n",
       "105                           Morocco\n",
       "107                           Myanmar\n",
       "109                             Nepal\n",
       "115                              Oman\n",
       "117                            Panama\n",
       "118                          Paraguay\n",
       "119                              Peru\n",
       "120                       Philippines\n",
       "121                            Poland\n",
       "124                           Romania\n",
       "125                            Russia\n",
       "127                             Samoa\n",
       "128                      Saudi Arabia\n",
       "130                            Serbia\n",
       "131                        Seychelles\n",
       "140                         Sri Lanka\n",
       "141    St. Vincent and the Grenadines\n",
       "143                          Suriname\n",
       "148                          Thailand\n",
       "151                             Tonga\n",
       "152                           Tunisia\n",
       "153                            Turkey\n",
       "154                      Turkmenistan\n",
       "156                           Ukraine\n",
       "160                           Uruguay\n",
       "161                        Uzbekistan\n",
       "162                           Vanuatu\n",
       "164                           Vietnam\n",
       "Name: country, Length: 80, dtype: object"
      ]
     },
     "execution_count": 84,
     "metadata": {},
     "output_type": "execute_result"
    }
   ],
   "source": [
    "df_kmeans_k5_1.loc[ df_kmeans_k5_1['cluster']==2, 'country']"
   ]
  },
  {
   "cell_type": "markdown",
   "metadata": {},
   "source": [
    "#### Cluster 3\n",
    "This cluster is second best economically and best health wise. Surely this group of countries does not need the help."
   ]
  },
  {
   "cell_type": "code",
   "execution_count": 85,
   "metadata": {},
   "outputs": [
    {
     "data": {
      "text/plain": [
       "7            Australia\n",
       "8              Austria\n",
       "10             Bahamas\n",
       "15             Belgium\n",
       "29              Canada\n",
       "42              Cyprus\n",
       "43      Czech Republic\n",
       "44             Denmark\n",
       "53             Finland\n",
       "54              France\n",
       "58             Germany\n",
       "60              Greece\n",
       "68             Iceland\n",
       "73             Ireland\n",
       "74              Israel\n",
       "75               Italy\n",
       "77               Japan\n",
       "98               Malta\n",
       "110        Netherlands\n",
       "111        New Zealand\n",
       "122           Portugal\n",
       "134    Slovak Republic\n",
       "135           Slovenia\n",
       "138        South Korea\n",
       "139              Spain\n",
       "144             Sweden\n",
       "145        Switzerland\n",
       "158     United Kingdom\n",
       "159      United States\n",
       "Name: country, dtype: object"
      ]
     },
     "execution_count": 85,
     "metadata": {},
     "output_type": "execute_result"
    }
   ],
   "source": [
    "df_kmeans_k5_1.loc[ df_kmeans_k5_1['cluster']==3, 'country']"
   ]
  },
  {
   "cell_type": "markdown",
   "metadata": {},
   "source": [
    "#### Cluster 4\n",
    "This the cluster that needs CEO's attention. These group of countries have worst trade balance, gdpp and per capita income is lowest, has highest child mortality, lowest life expectancy. Other Factors are moderate like inflation, health expenditure."
   ]
  },
  {
   "cell_type": "code",
   "execution_count": 86,
   "metadata": {},
   "outputs": [
    {
     "data": {
      "text/plain": [
       "0                   Afghanistan\n",
       "17                        Benin\n",
       "21                     Botswana\n",
       "25                 Burkina Faso\n",
       "26                      Burundi\n",
       "28                     Cameroon\n",
       "31     Central African Republic\n",
       "32                         Chad\n",
       "36                      Comoros\n",
       "37             Congo, Dem. Rep.\n",
       "40                Cote d'Ivoire\n",
       "50                      Eritrea\n",
       "56                       Gambia\n",
       "59                        Ghana\n",
       "63                       Guinea\n",
       "64                Guinea-Bissau\n",
       "66                        Haiti\n",
       "80                        Kenya\n",
       "81                     Kiribati\n",
       "84                          Lao\n",
       "87                      Lesotho\n",
       "88                      Liberia\n",
       "93                   Madagascar\n",
       "94                       Malawi\n",
       "97                         Mali\n",
       "99                   Mauritania\n",
       "101       Micronesia, Fed. Sts.\n",
       "106                  Mozambique\n",
       "108                     Namibia\n",
       "112                       Niger\n",
       "116                    Pakistan\n",
       "126                      Rwanda\n",
       "129                     Senegal\n",
       "132                Sierra Leone\n",
       "136             Solomon Islands\n",
       "137                South Africa\n",
       "146                  Tajikistan\n",
       "147                    Tanzania\n",
       "149                 Timor-Leste\n",
       "150                        Togo\n",
       "155                      Uganda\n",
       "166                      Zambia\n",
       "Name: country, dtype: object"
      ]
     },
     "execution_count": 86,
     "metadata": {},
     "output_type": "execute_result"
    }
   ],
   "source": [
    "df_kmeans_k5_1.loc[ df_kmeans_k5_1['cluster']==4, 'country']"
   ]
  }
 ],
 "metadata": {
  "kernelspec": {
   "display_name": "Python 3",
   "language": "python",
   "name": "python3"
  },
  "language_info": {
   "codemirror_mode": {
    "name": "ipython",
    "version": 3
   },
   "file_extension": ".py",
   "mimetype": "text/x-python",
   "name": "python",
   "nbconvert_exporter": "python",
   "pygments_lexer": "ipython3",
   "version": "3.7.0"
  }
 },
 "nbformat": 4,
 "nbformat_minor": 2
}
